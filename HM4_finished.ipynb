{
  "nbformat": 4,
  "nbformat_minor": 0,
  "metadata": {
    "kernelspec": {
      "display_name": "Python 3",
      "language": "python",
      "name": "python3"
    },
    "language_info": {
      "codemirror_mode": {
        "name": "ipython",
        "version": 3
      },
      "file_extension": ".py",
      "mimetype": "text/x-python",
      "name": "python",
      "nbconvert_exporter": "python",
      "pygments_lexer": "ipython3",
      "version": "3.7.4"
    },
    "colab": {
      "name": "HM4-finished.ipynb",
      "provenance": [],
      "collapsed_sections": [],
      "machine_shape": "hm"
    }
  },
  "cells": [
    {
      "cell_type": "markdown",
      "metadata": {
        "id": "JHcD-pMTFVQG",
        "colab_type": "text"
      },
      "source": [
        "# Home 4: Build a seq2seq model for machine translation.\n",
        "\n",
        "### Name: [Your-Name?]\n",
        "\n",
        "### Task: Translate English to [what-language?]"
      ]
    },
    {
      "cell_type": "markdown",
      "metadata": {
        "id": "4M13tGmLFVQI",
        "colab_type": "text"
      },
      "source": [
        "## 0. You will do the following:\n",
        "\n",
        "1. Read and run my code.\n",
        "2. Complete the code in Section 1.1 and Section 4.2.\n",
        "\n",
        "    * Translation English to **German** is not acceptable!!! Try another language.\n",
        "    \n",
        "3. **Make improvements.** Directly modify the code in Section 3. Do at least one of the followings. By doing more, you will get up to 2 bonus scores to the total.\n",
        "\n",
        "    * Bi-LSTM instead of LSTM\n",
        "    \n",
        "    * Multi-task learning (e.g., both English to French and English to Spanish)\n",
        "    \n",
        "    * Attention\n",
        "    \n",
        "4. Evaluate the translation using the BLEU score. \n",
        "\n",
        "    * Optional. Up to 1 bonus scores to the total.\n",
        "    \n",
        "5. Convert the notebook to .HTML file. \n",
        "\n",
        "    * The HTML file must contain the code and the output after execution.\n",
        "\n",
        "6. Put the .HTML file in your own Github repo. \n",
        "\n",
        "7. Submit the link to the HTML file to Canvas.    \n"
      ]
    },
    {
      "cell_type": "markdown",
      "metadata": {
        "id": "qUdpwQ_IFVQJ",
        "colab_type": "text"
      },
      "source": [
        "### Hint: \n",
        "\n",
        "To implement ```Bi-LSTM```, you will need the following code to build the encoder; the decoder won't be much different."
      ]
    },
    {
      "cell_type": "code",
      "metadata": {
        "id": "b9lm-_ZUFVQK",
        "colab_type": "code",
        "outputId": "88a046f5-cace-46d4-a55b-29deb10a44ea",
        "colab": {
          "base_uri": "https://localhost:8080/",
          "height": 232
        }
      },
      "source": [
        "from keras.layers import Bidirectional, Concatenate, LSTM\n",
        "\n",
        "encoder_bilstm = Bidirectional(LSTM(latent_dim, return_state=True, \n",
        "                                  dropout=0.5, name='encoder_lstm'))\n",
        "_, forward_h, forward_c, backward_h, backward_c = encoder_bilstm(encoder_inputs)\n",
        "\n",
        "state_h = Concatenate()([forward_h, backward_h])\n",
        "state_c = Concatenate()([forward_c, backward_c])"
      ],
      "execution_count": 0,
      "outputs": [
        {
          "output_type": "error",
          "ename": "NameError",
          "evalue": "ignored",
          "traceback": [
            "\u001b[0;31m---------------------------------------------------------------------------\u001b[0m",
            "\u001b[0;31mNameError\u001b[0m                                 Traceback (most recent call last)",
            "\u001b[0;32m<ipython-input-8-b4edcf07d516>\u001b[0m in \u001b[0;36m<module>\u001b[0;34m()\u001b[0m\n\u001b[1;32m      1\u001b[0m \u001b[0;32mfrom\u001b[0m \u001b[0mkeras\u001b[0m\u001b[0;34m.\u001b[0m\u001b[0mlayers\u001b[0m \u001b[0;32mimport\u001b[0m \u001b[0mBidirectional\u001b[0m\u001b[0;34m,\u001b[0m \u001b[0mConcatenate\u001b[0m\u001b[0;34m,\u001b[0m \u001b[0mLSTM\u001b[0m\u001b[0;34m\u001b[0m\u001b[0;34m\u001b[0m\u001b[0m\n\u001b[1;32m      2\u001b[0m \u001b[0;34m\u001b[0m\u001b[0m\n\u001b[0;32m----> 3\u001b[0;31m encoder_bilstm = Bidirectional(LSTM(latent_dim, return_state=True, \n\u001b[0m\u001b[1;32m      4\u001b[0m                                   dropout=0.5, name='encoder_lstm'))\n\u001b[1;32m      5\u001b[0m \u001b[0m_\u001b[0m\u001b[0;34m,\u001b[0m \u001b[0mforward_h\u001b[0m\u001b[0;34m,\u001b[0m \u001b[0mforward_c\u001b[0m\u001b[0;34m,\u001b[0m \u001b[0mbackward_h\u001b[0m\u001b[0;34m,\u001b[0m \u001b[0mbackward_c\u001b[0m \u001b[0;34m=\u001b[0m \u001b[0mencoder_bilstm\u001b[0m\u001b[0;34m(\u001b[0m\u001b[0mencoder_inputs\u001b[0m\u001b[0;34m)\u001b[0m\u001b[0;34m\u001b[0m\u001b[0;34m\u001b[0m\u001b[0m\n",
            "\u001b[0;31mNameError\u001b[0m: name 'latent_dim' is not defined"
          ]
        }
      ]
    },
    {
      "cell_type": "code",
      "metadata": {
        "id": "SP_-wKEQYcWe",
        "colab_type": "code",
        "colab": {}
      },
      "source": [
        "# from keras import backend as K \n",
        "# K.clear_session()"
      ],
      "execution_count": 0,
      "outputs": []
    },
    {
      "cell_type": "markdown",
      "metadata": {
        "id": "Fowz0Ul-FVQN",
        "colab_type": "text"
      },
      "source": [
        "### Hint: \n",
        "\n",
        "To implement multi-task training, you can refer to ```Section 7.1.3 Multi-output models``` of the textbook, ```Deep Learning with Python```."
      ]
    },
    {
      "cell_type": "markdown",
      "metadata": {
        "id": "xoH_WOQGFVQN",
        "colab_type": "text"
      },
      "source": [
        "## 1. Data preparation\n",
        "\n",
        "1. Download data (e.g., \"deu-eng.zip\") from http://www.manythings.org/anki/\n",
        "2. Unzip the .ZIP file.\n",
        "3. Put the .TXT file (e.g., \"deu.txt\") in the directory \"./Data/\"."
      ]
    },
    {
      "cell_type": "markdown",
      "metadata": {
        "id": "PtRH6P3DFVQO",
        "colab_type": "text"
      },
      "source": [
        "### 1.1. Load and clean text\n"
      ]
    },
    {
      "cell_type": "code",
      "metadata": {
        "id": "beitZfbWFVQP",
        "colab_type": "code",
        "colab": {}
      },
      "source": [
        "import re\n",
        "import string\n",
        "from unicodedata import normalize\n",
        "import numpy\n",
        "\n",
        "# load doc into memory\n",
        "def load_doc(filename):\n",
        "    # open the file as read only\n",
        "    file = open(filename, mode='rt', encoding='utf-8')\n",
        "    # read all text\n",
        "    text = file.read()\n",
        "    # close the file\n",
        "    file.close()\n",
        "    return text\n",
        "\n",
        "\n",
        "# split a loaded document into sentences\n",
        "def to_pairs(doc):\n",
        "    lines = doc.strip().split('\\n')\n",
        "    pairs = [line.split('\\t') for line in  lines]\n",
        "    return pairs\n",
        "\n",
        "def clean_data(lines):\n",
        "    cleaned = list()\n",
        "    # prepare regex for char filtering\n",
        "    re_print = re.compile('[^%s]' % re.escape(string.printable))\n",
        "    # prepare translation table for removing punctuation\n",
        "    table = str.maketrans('', '', string.punctuation)\n",
        "    for pair in lines:\n",
        "        clean_pair = list()\n",
        "        for line in pair:\n",
        "            # normalize unicode characters\n",
        "            line = normalize('NFD', line).encode('ascii', 'ignore')\n",
        "            line = line.decode('UTF-8')\n",
        "            # tokenize on white space\n",
        "            line = line.split()\n",
        "            # convert to lowercase\n",
        "            line = [word.lower() for word in line]\n",
        "            # remove punctuation from each token\n",
        "            line = [word.translate(table) for word in line]\n",
        "            # remove non-printable chars form each token\n",
        "            line = [re_print.sub('', w) for w in line]\n",
        "            # remove tokens with numbers in them\n",
        "            line = [word for word in line if word.isalpha()]\n",
        "            # store as string\n",
        "            clean_pair.append(' '.join(line))\n",
        "        cleaned.append(clean_pair)\n",
        "    return numpy.array(cleaned)"
      ],
      "execution_count": 0,
      "outputs": []
    },
    {
      "cell_type": "markdown",
      "metadata": {
        "id": "lVgRoJ4NGT6i",
        "colab_type": "text"
      },
      "source": [
        "Upload data to Google Drive, and then import from local directory to Google Colab"
      ]
    },
    {
      "cell_type": "code",
      "metadata": {
        "id": "L2gaFlkkGbtW",
        "colab_type": "code",
        "outputId": "b85cd7b0-989a-470a-adbf-1ae301c81e9d",
        "colab": {
          "base_uri": "https://localhost:8080/",
          "height": 34
        }
      },
      "source": [
        "from google.colab import drive\n",
        "drive.mount('/content/gdrive')"
      ],
      "execution_count": 81,
      "outputs": [
        {
          "output_type": "stream",
          "text": [
            "Drive already mounted at /content/gdrive; to attempt to forcibly remount, call drive.mount(\"/content/gdrive\", force_remount=True).\n"
          ],
          "name": "stdout"
        }
      ]
    },
    {
      "cell_type": "code",
      "metadata": {
        "id": "P0edEy26JVfc",
        "colab_type": "code",
        "colab": {}
      },
      "source": [
        "import os\n",
        "dir = os.path.join(\"/content/gdrive/My Drive/data\", \"spa.txt\")"
      ],
      "execution_count": 0,
      "outputs": []
    },
    {
      "cell_type": "markdown",
      "metadata": {
        "id": "0DoQ5yuQFVQR",
        "colab_type": "text"
      },
      "source": [
        "#### Fill the following blanks:"
      ]
    },
    {
      "cell_type": "code",
      "metadata": {
        "id": "p2ObgNfmFVQS",
        "colab_type": "code",
        "colab": {}
      },
      "source": [
        "# e.g., filename = 'Data/deu.txt'\n",
        "# filename = '/Users/yangyangyu/Documents/SIT_semester1/CS583/hw4/fra-eng/fra.txt'\n",
        "#filename = '/Users/yangyangyu/Documents/SIT_semester1/CS583/hw4/spa-eng/spa.txt'\n",
        "filename = dir\n",
        "# e.g., n_train = 20000\n",
        "n_train = 20000"
      ],
      "execution_count": 0,
      "outputs": []
    },
    {
      "cell_type": "code",
      "metadata": {
        "id": "l59hX5gyFVQU",
        "colab_type": "code",
        "colab": {}
      },
      "source": [
        "# load dataset\n",
        "doc = load_doc(filename)\n",
        "\n",
        "# split into Language1-Language2 pairs\n",
        "pairs = to_pairs(doc)\n",
        "\n",
        "# clean sentences\n",
        "clean_pairs = clean_data(pairs)[0:n_train, :]"
      ],
      "execution_count": 0,
      "outputs": []
    },
    {
      "cell_type": "code",
      "metadata": {
        "id": "EUIvh9o4FVQX",
        "colab_type": "code",
        "outputId": "4d7f219a-f56f-44f4-a8b4-290a8cec80ec",
        "colab": {
          "base_uri": "https://localhost:8080/",
          "height": 187
        }
      },
      "source": [
        "for i in range(1000, 1010):\n",
        "    print('[' + clean_pairs[i, 0] + '] => [' + clean_pairs[i, 1] + ']')"
      ],
      "execution_count": 8,
      "outputs": [
        {
          "output_type": "stream",
          "text": [
            "[come early] => [veni temprano]\n",
            "[come early] => [ven temprano]\n",
            "[come early] => [vengan temprano]\n",
            "[come early] => [venga temprano]\n",
            "[come on in] => [pasale]\n",
            "[come on in] => [pasele]\n",
            "[come on in] => [pasenle]\n",
            "[come on in] => [entre]\n",
            "[come on in] => [pase]\n",
            "[come quick] => [ven rapido]\n"
          ],
          "name": "stdout"
        }
      ]
    },
    {
      "cell_type": "code",
      "metadata": {
        "id": "-9NBknMBFVQa",
        "colab_type": "code",
        "outputId": "df913fc5-0444-4d2d-f37e-6b28e344c521",
        "colab": {
          "base_uri": "https://localhost:8080/",
          "height": 51
        }
      },
      "source": [
        "input_texts = clean_pairs[:, 0]\n",
        "target_texts = ['\\t' + text + '\\n' for text in clean_pairs[:, 1]]\n",
        "\n",
        "print('Length of input_texts:  ' + str(input_texts.shape))\n",
        "print('Length of target_texts: ' + str(input_texts.shape))"
      ],
      "execution_count": 9,
      "outputs": [
        {
          "output_type": "stream",
          "text": [
            "Length of input_texts:  (20000,)\n",
            "Length of target_texts: (20000,)\n"
          ],
          "name": "stdout"
        }
      ]
    },
    {
      "cell_type": "code",
      "metadata": {
        "id": "rrwkYSLXFVQc",
        "colab_type": "code",
        "outputId": "f4285654-506c-48bc-b3f0-3402d4e1aae8",
        "colab": {
          "base_uri": "https://localhost:8080/",
          "height": 51
        }
      },
      "source": [
        "max_encoder_seq_length = max(len(line) for line in input_texts)\n",
        "max_decoder_seq_length = max(len(line) for line in target_texts)\n",
        "\n",
        "print('max length of input  sentences: %d' % (max_encoder_seq_length))\n",
        "print('max length of target sentences: %d' % (max_decoder_seq_length))"
      ],
      "execution_count": 10,
      "outputs": [
        {
          "output_type": "stream",
          "text": [
            "max length of input  sentences: 19\n",
            "max length of target sentences: 68\n"
          ],
          "name": "stdout"
        }
      ]
    },
    {
      "cell_type": "markdown",
      "metadata": {
        "id": "6txs6H15FVQd",
        "colab_type": "text"
      },
      "source": [
        "**Remark:** To this end, you have two lists of sentences: input_texts and target_texts"
      ]
    },
    {
      "cell_type": "markdown",
      "metadata": {
        "id": "aMJQN-G3FVQd",
        "colab_type": "text"
      },
      "source": [
        "## 2. Text processing\n",
        "\n",
        "### 2.1. Convert texts to sequences\n",
        "\n",
        "- Input: A list of $n$ sentences (with max length $t$).\n",
        "- It is represented by a $n\\times t$ matrix after the tokenization and zero-padding."
      ]
    },
    {
      "cell_type": "code",
      "metadata": {
        "id": "_FQkJ8AyFVQe",
        "colab_type": "code",
        "outputId": "2b99fb04-8bbd-405c-a06b-7b45f4e8d0da",
        "colab": {
          "base_uri": "https://localhost:8080/",
          "height": 85
        }
      },
      "source": [
        "from keras.preprocessing.text import Tokenizer\n",
        "from keras.preprocessing.sequence import pad_sequences\n",
        "\n",
        "# encode and pad sequences\n",
        "def text2sequences(max_len, lines):\n",
        "    tokenizer = Tokenizer(char_level=True, filters='')\n",
        "    tokenizer.fit_on_texts(lines)\n",
        "    seqs = tokenizer.texts_to_sequences(lines)\n",
        "    seqs_pad = pad_sequences(seqs, maxlen=max_len, padding='post')\n",
        "    return seqs_pad, tokenizer.word_index\n",
        "\n",
        "\n",
        "encoder_input_seq, input_token_index = text2sequences(max_encoder_seq_length, \n",
        "                                                      input_texts)\n",
        "decoder_input_seq, target_token_index = text2sequences(max_decoder_seq_length, \n",
        "                                                       target_texts)\n",
        "\n",
        "print('shape of encoder_input_seq: ' + str(encoder_input_seq.shape))\n",
        "print('shape of input_token_index: ' + str(len(input_token_index)))\n",
        "print('shape of decoder_input_seq: ' + str(decoder_input_seq.shape))\n",
        "print('shape of target_token_index: ' + str(len(target_token_index)))"
      ],
      "execution_count": 11,
      "outputs": [
        {
          "output_type": "stream",
          "text": [
            "shape of encoder_input_seq: (20000, 19)\n",
            "shape of input_token_index: 27\n",
            "shape of decoder_input_seq: (20000, 68)\n",
            "shape of target_token_index: 29\n"
          ],
          "name": "stdout"
        }
      ]
    },
    {
      "cell_type": "code",
      "metadata": {
        "id": "siNrWuUHFVQg",
        "colab_type": "code",
        "outputId": "9f7007c4-9ee6-48ca-c605-fcb2c03d5baf",
        "colab": {
          "base_uri": "https://localhost:8080/",
          "height": 51
        }
      },
      "source": [
        "num_encoder_tokens = len(input_token_index) + 1\n",
        "num_decoder_tokens = len(target_token_index) + 1\n",
        "\n",
        "print('num_encoder_tokens: ' + str(num_encoder_tokens))\n",
        "print('num_decoder_tokens: ' + str(num_decoder_tokens))"
      ],
      "execution_count": 12,
      "outputs": [
        {
          "output_type": "stream",
          "text": [
            "num_encoder_tokens: 28\n",
            "num_decoder_tokens: 30\n"
          ],
          "name": "stdout"
        }
      ]
    },
    {
      "cell_type": "markdown",
      "metadata": {
        "id": "IQ-goq8oFVQh",
        "colab_type": "text"
      },
      "source": [
        "**Remark:** To this end, the input language and target language texts are converted to 2 matrices. \n",
        "\n",
        "- Their number of rows are both n_train.\n",
        "- Their number of columns are respective max_encoder_seq_length and max_decoder_seq_length."
      ]
    },
    {
      "cell_type": "markdown",
      "metadata": {
        "id": "NzJsgSfCFVQi",
        "colab_type": "text"
      },
      "source": [
        "The followings print a sentence and its representation as a sequence."
      ]
    },
    {
      "cell_type": "code",
      "metadata": {
        "id": "jmbjTZOvFVQi",
        "colab_type": "code",
        "outputId": "09165d0a-1427-4f94-9d7f-3e1b6f83f16e",
        "colab": {
          "base_uri": "https://localhost:8080/",
          "height": 34
        }
      },
      "source": [
        "target_texts[100]"
      ],
      "execution_count": 13,
      "outputs": [
        {
          "output_type": "execute_result",
          "data": {
            "text/plain": [
              "'\\tsed buenas\\n'"
            ]
          },
          "metadata": {
            "tags": []
          },
          "execution_count": 13
        }
      ]
    },
    {
      "cell_type": "code",
      "metadata": {
        "id": "6ok9G-GvFVQj",
        "colab_type": "code",
        "outputId": "fa28c56f-c52f-4eee-a651-f4103befa1d9",
        "colab": {
          "base_uri": "https://localhost:8080/",
          "height": 102
        }
      },
      "source": [
        "decoder_input_seq[100, :]"
      ],
      "execution_count": 14,
      "outputs": [
        {
          "output_type": "execute_result",
          "data": {
            "text/plain": [
              "array([ 6,  5,  2, 15,  1, 18, 14,  2,  8,  3,  5,  7,  0,  0,  0,  0,  0,\n",
              "        0,  0,  0,  0,  0,  0,  0,  0,  0,  0,  0,  0,  0,  0,  0,  0,  0,\n",
              "        0,  0,  0,  0,  0,  0,  0,  0,  0,  0,  0,  0,  0,  0,  0,  0,  0,\n",
              "        0,  0,  0,  0,  0,  0,  0,  0,  0,  0,  0,  0,  0,  0,  0,  0,  0],\n",
              "      dtype=int32)"
            ]
          },
          "metadata": {
            "tags": []
          },
          "execution_count": 14
        }
      ]
    },
    {
      "cell_type": "markdown",
      "metadata": {
        "id": "bcp0fwCUFVQl",
        "colab_type": "text"
      },
      "source": [
        "## 2.2. One-hot encode\n",
        "\n",
        "- Input: A list of $n$ sentences (with max length $t$).\n",
        "- It is represented by a $n\\times t$ matrix after the tokenization and zero-padding.\n",
        "- It is represented by a $n\\times t \\times v$ tensor ($t$ is the number of unique chars) after the one-hot encoding."
      ]
    },
    {
      "cell_type": "code",
      "metadata": {
        "id": "LshcPXOWFVQl",
        "colab_type": "code",
        "outputId": "8dfc530a-8e53-4e19-f5b9-925c15bb6019",
        "colab": {
          "base_uri": "https://localhost:8080/",
          "height": 51
        }
      },
      "source": [
        "from keras.utils import to_categorical\n",
        "\n",
        "# one hot encode target sequence\n",
        "def onehot_encode(sequences, max_len, vocab_size):\n",
        "    n = len(sequences)\n",
        "    data = numpy.zeros((n, max_len, vocab_size))\n",
        "    for i in range(n):\n",
        "        data[i, :, :] = to_categorical(sequences[i], num_classes=vocab_size)\n",
        "    return data\n",
        "\n",
        "encoder_input_data = onehot_encode(encoder_input_seq, max_encoder_seq_length, num_encoder_tokens)\n",
        "decoder_input_data = onehot_encode(decoder_input_seq, max_decoder_seq_length, num_decoder_tokens)\n",
        "\n",
        "decoder_target_seq = numpy.zeros(decoder_input_seq.shape)\n",
        "decoder_target_seq[:, 0:-1] = decoder_input_seq[:, 1:]\n",
        "decoder_target_data = onehot_encode(decoder_target_seq, \n",
        "                                    max_decoder_seq_length, \n",
        "                                    num_decoder_tokens)\n",
        "\n",
        "print(encoder_input_data.shape)\n",
        "print(decoder_input_data.shape)"
      ],
      "execution_count": 15,
      "outputs": [
        {
          "output_type": "stream",
          "text": [
            "(20000, 19, 28)\n",
            "(20000, 68, 30)\n"
          ],
          "name": "stdout"
        }
      ]
    },
    {
      "cell_type": "markdown",
      "metadata": {
        "id": "qFR5FaxwFVQm",
        "colab_type": "text"
      },
      "source": [
        "## 3. Build the networks (for training)\n",
        "\n",
        "- Build encoder, decoder, and connect the two modules to get \"model\". \n",
        "\n",
        "- Fit the model on the bilingual data to train the parameters in the encoder and decoder."
      ]
    },
    {
      "cell_type": "markdown",
      "metadata": {
        "id": "wjh6zeMzFVQm",
        "colab_type": "text"
      },
      "source": [
        "### 3.1. Encoder network\n",
        "\n",
        "- Input:  one-hot encode of the input language\n",
        "\n",
        "- Return: \n",
        "\n",
        "    -- output (all the hidden states   $h_1, \\cdots , h_t$) are always discarded\n",
        "    \n",
        "    -- the final hidden state  $h_t$\n",
        "    \n",
        "    -- the final conveyor belt $c_t$"
      ]
    },
    {
      "cell_type": "code",
      "metadata": {
        "id": "bkGfNs2WFVQn",
        "colab_type": "code",
        "outputId": "a4014ada-6134-49a2-fe68-0288725e7e21",
        "colab": {
          "base_uri": "https://localhost:8080/",
          "height": 156
        }
      },
      "source": [
        "# create BILSTM model\n",
        "\n",
        "from keras.layers import LSTM,Bidirectional,Input,Concatenate\n",
        "from keras.models import Model\n",
        "\n",
        "latent_dim = 256\n",
        "num_encoder_tokens =28\n",
        "\n",
        "# inputs of the encoder network\n",
        "encoder_inputs = Input(shape=(None, num_encoder_tokens), \n",
        "                       name='encoder_inputs')\n",
        "\n",
        "# set the LSTM layer\n",
        "encoder_bilstm = Bidirectional(LSTM(latent_dim, return_state=True, dropout=0.5, name='encoder_bilstm'))\n",
        "encoder_outputs, forward_h, forward_c, backward_h, backward_c = encoder_bilstm(encoder_inputs)\n",
        "state_h = Concatenate()([forward_h, backward_h])\n",
        "state_c = Concatenate()([forward_c, backward_c])\n",
        "encoder_states = [state_h, state_c]\n",
        "# build the encoder network model\n",
        "encoder_model_bi = Model(inputs = encoder_inputs, outputs = encoder_states, name = 'encoder')\n"
      ],
      "execution_count": 16,
      "outputs": [
        {
          "output_type": "stream",
          "text": [
            "WARNING:tensorflow:From /usr/local/lib/python3.6/dist-packages/keras/backend/tensorflow_backend.py:541: The name tf.placeholder is deprecated. Please use tf.compat.v1.placeholder instead.\n",
            "\n",
            "WARNING:tensorflow:From /usr/local/lib/python3.6/dist-packages/keras/backend/tensorflow_backend.py:4432: The name tf.random_uniform is deprecated. Please use tf.random.uniform instead.\n",
            "\n",
            "WARNING:tensorflow:From /usr/local/lib/python3.6/dist-packages/keras/backend/tensorflow_backend.py:3733: calling dropout (from tensorflow.python.ops.nn_ops) with keep_prob is deprecated and will be removed in a future version.\n",
            "Instructions for updating:\n",
            "Please use `rate` instead of `keep_prob`. Rate should be set to `rate = 1 - keep_prob`.\n"
          ],
          "name": "stdout"
        }
      ]
    },
    {
      "cell_type": "code",
      "metadata": {
        "id": "LcbV7XA3TAHk",
        "colab_type": "code",
        "outputId": "8cb7f932-4b70-40dc-9000-030914d6f4a7",
        "colab": {
          "base_uri": "https://localhost:8080/",
          "height": 323
        }
      },
      "source": [
        "from IPython.display import SVG\n",
        "from keras.utils.vis_utils import model_to_dot, plot_model\n",
        "\n",
        "SVG(model_to_dot(encoder_model_bi, show_shapes=False).create(prog='dot', format='svg'))\n",
        "\n",
        "plot_model(\n",
        "    model=encoder_model_bi, show_shapes=False\n",
        "    ,\n",
        "    to_file='encoder.png'\n",
        ")\n",
        "\n",
        "encoder_model_bi.summary()"
      ],
      "execution_count": 17,
      "outputs": [
        {
          "output_type": "stream",
          "text": [
            "Model: \"encoder\"\n",
            "__________________________________________________________________________________________________\n",
            "Layer (type)                    Output Shape         Param #     Connected to                     \n",
            "==================================================================================================\n",
            "encoder_inputs (InputLayer)     (None, None, 28)     0                                            \n",
            "__________________________________________________________________________________________________\n",
            "bidirectional_1 (Bidirectional) [(None, 512), (None, 583680      encoder_inputs[0][0]             \n",
            "__________________________________________________________________________________________________\n",
            "concatenate_1 (Concatenate)     (None, 512)          0           bidirectional_1[0][1]            \n",
            "                                                                 bidirectional_1[0][3]            \n",
            "__________________________________________________________________________________________________\n",
            "concatenate_2 (Concatenate)     (None, 512)          0           bidirectional_1[0][2]            \n",
            "                                                                 bidirectional_1[0][4]            \n",
            "==================================================================================================\n",
            "Total params: 583,680\n",
            "Trainable params: 583,680\n",
            "Non-trainable params: 0\n",
            "__________________________________________________________________________________________________\n"
          ],
          "name": "stdout"
        }
      ]
    },
    {
      "cell_type": "code",
      "metadata": {
        "id": "XqenmCMWFVQo",
        "colab_type": "code",
        "colab": {}
      },
      "source": [
        "\n",
        "# from keras.layers import Input, LSTM\n",
        "# from keras.models import Model\n",
        "\n",
        "# latent_dim = 256\n",
        "# num_encoder_tokens =28\n",
        "\n",
        "# # inputs of the encoder network\n",
        "# encoder_inputs = Input(shape=(None, num_encoder_tokens), \n",
        "#                        name='encoder_inputs')\n",
        "\n",
        "# # set the LSTM layer\n",
        "# encoder_lstm = LSTM(latent_dim, return_state=True, \n",
        "#                     dropout=0.5, name='encoder_lstm')\n",
        "# _, state_h, state_c = encoder_lstm(encoder_inputs)\n",
        "\n",
        "# # build the encoder network model\n",
        "# encoder_model = Model(inputs=encoder_inputs, \n",
        "#                       outputs=[state_h, state_c],\n",
        "#                       name='encoder')"
      ],
      "execution_count": 0,
      "outputs": []
    },
    {
      "cell_type": "markdown",
      "metadata": {
        "id": "DvFXNUFbFVQp",
        "colab_type": "text"
      },
      "source": [
        "Print a summary and save the encoder network structure to \"./encoder.pdf\""
      ]
    },
    {
      "cell_type": "code",
      "metadata": {
        "id": "DMDKkXT0FVQp",
        "colab_type": "code",
        "colab": {}
      },
      "source": [
        "# from IPython.display import SVG\n",
        "# from keras.utils.vis_utils import model_to_dot, plot_model\n",
        "\n",
        "# SVG(model_to_dot(encoder_model, show_shapes=False).create(prog='dot', format='svg'))\n",
        "\n",
        "# plot_model(\n",
        "#     model=encoder_model, show_shapes=False\n",
        "#     ,\n",
        "#     to_file='encoder.png'\n",
        "# )\n",
        "\n",
        "# encoder_model.summary()"
      ],
      "execution_count": 0,
      "outputs": []
    },
    {
      "cell_type": "markdown",
      "metadata": {
        "id": "oJG-exOsFVQq",
        "colab_type": "text"
      },
      "source": [
        "### 3.2. Decoder network\n",
        "\n",
        "- Inputs:  \n",
        "\n",
        "    -- one-hot encode of the target language\n",
        "    \n",
        "    -- The initial hidden state $h_t$ \n",
        "    \n",
        "    -- The initial conveyor belt $c_t$ \n",
        "\n",
        "- Return: \n",
        "\n",
        "    -- output (all the hidden states) $h_1, \\cdots , h_t$\n",
        "\n",
        "    -- the final hidden state  $h_t$ (discarded in the training and used in the prediction)\n",
        "    \n",
        "    -- the final conveyor belt $c_t$ (discarded in the training and used in the prediction)"
      ]
    },
    {
      "cell_type": "code",
      "metadata": {
        "id": "TBnHdxE6FVQq",
        "colab_type": "code",
        "colab": {}
      },
      "source": [
        "from keras.layers import Input, LSTM, Dense\n",
        "from keras.models import Model\n",
        "\n",
        "# inputs of the decoder network\n",
        "decoder_input_x = Input(shape=(None, num_decoder_tokens), name='decoder_input_x')\n",
        "\n",
        "decoder_state_input_h = Input(shape=(latent_dim *2,), name='decoder_input_h')\n",
        "decoder_state_input_c = Input(shape=(latent_dim *2,), name='decoder_input_c')\n",
        "decoder_states_inputs = [decoder_state_input_h, decoder_state_input_c]\n",
        "\n",
        "# set the LSTM layer\n",
        "decoder_bilstm = LSTM(latent_dim * 2, return_sequences=True, return_state=True, dropout=0.5, name='decoder_bilstm')\n",
        "decoder_bilstm_outputs, state_h1, state_c1 = decoder_bilstm(decoder_input_x, initial_state=decoder_states_inputs)\n",
        "\n",
        "# set the dense layer\n",
        "decoder_dense = Dense(num_decoder_tokens, activation='softmax', name='decoder_dense')\n",
        "decoder_outputs = decoder_dense(decoder_bilstm_outputs)\n",
        "\n",
        "# build the decoder network model\n",
        "decoder_model_bi = Model(inputs=[decoder_input_x, decoder_state_input_h, decoder_state_input_c],\n",
        "                      outputs=[decoder_outputs, state_h1, state_c1],\n",
        "                      name='decoder')\n",
        "\n",
        "\n",
        "# decoder_model_bi = Model(inputs=[encoder_inputs, decoder_input_x],\n",
        "#                       outputs=[decoder_outputs, state_h, state_c],\n",
        "#                       name='decoder')\n"
      ],
      "execution_count": 0,
      "outputs": []
    },
    {
      "cell_type": "markdown",
      "metadata": {
        "id": "S0gSdxUxFVQr",
        "colab_type": "text"
      },
      "source": [
        "Print a summary and save the encoder network structure to \"./decoder.pdf\""
      ]
    },
    {
      "cell_type": "code",
      "metadata": {
        "id": "TXnmq_VtFVQr",
        "colab_type": "code",
        "outputId": "d2694498-7f62-4afc-93dd-1c66620c8103",
        "colab": {
          "base_uri": "https://localhost:8080/",
          "height": 357
        }
      },
      "source": [
        "from IPython.display import SVG\n",
        "from keras.utils.vis_utils import model_to_dot, plot_model\n",
        "\n",
        "SVG(model_to_dot(decoder_model_bi, show_shapes=False).create(prog='dot', format='svg'))\n",
        "\n",
        "plot_model(\n",
        "    model=decoder_model_bi, show_shapes=False\n",
        "    ,\n",
        "    to_file='decoder.png'\n",
        ")\n",
        "\n",
        "decoder_model_bi.summary()"
      ],
      "execution_count": 21,
      "outputs": [
        {
          "output_type": "stream",
          "text": [
            "Model: \"decoder\"\n",
            "__________________________________________________________________________________________________\n",
            "Layer (type)                    Output Shape         Param #     Connected to                     \n",
            "==================================================================================================\n",
            "decoder_input_x (InputLayer)    (None, None, 30)     0                                            \n",
            "__________________________________________________________________________________________________\n",
            "decoder_input_h (InputLayer)    (None, 512)          0                                            \n",
            "__________________________________________________________________________________________________\n",
            "decoder_input_c (InputLayer)    (None, 512)          0                                            \n",
            "__________________________________________________________________________________________________\n",
            "decoder_bilstm (LSTM)           [(None, None, 512),  1112064     decoder_input_x[0][0]            \n",
            "                                                                 decoder_input_h[0][0]            \n",
            "                                                                 decoder_input_c[0][0]            \n",
            "__________________________________________________________________________________________________\n",
            "decoder_dense (Dense)           (None, None, 30)     15390       decoder_bilstm[0][0]             \n",
            "==================================================================================================\n",
            "Total params: 1,127,454\n",
            "Trainable params: 1,127,454\n",
            "Non-trainable params: 0\n",
            "__________________________________________________________________________________________________\n"
          ],
          "name": "stdout"
        }
      ]
    },
    {
      "cell_type": "code",
      "metadata": {
        "id": "JwnBhuS-Sy2G",
        "colab_type": "code",
        "colab": {}
      },
      "source": [
        "# # inputs of the decoder network\n",
        "# decoder_input_h = Input(shape=(latent_dim,), name='decoder_input_h')\n",
        "# decoder_input_c = Input(shape=(latent_dim,), name='decoder_input_c')\n",
        "# decoder_input_x = Input(shape=(None, num_decoder_tokens), name='decoder_input_x')\n",
        "\n",
        "# # set the LSTM layer\n",
        "# decoder_lstm = LSTM(latent_dim, return_sequences=True, \n",
        "#                     return_state=True, dropout=0.5, name='decoder_lstm')\n",
        "# decoder_lstm_outputs, state_h, state_c = decoder_lstm(decoder_input_x, \n",
        "#                                                       initial_state=[decoder_input_h, decoder_input_c])\n",
        "\n",
        "# # set the dense layer\n",
        "# decoder_dense = Dense(num_decoder_tokens, activation='softmax', name='decoder_dense')\n",
        "# decoder_outputs = decoder_dense(decoder_lstm_outputs)\n",
        "\n",
        "# # build the decoder network model\n",
        "# decoder_model = Model(inputs=[decoder_input_x, decoder_input_h, decoder_input_c],\n",
        "#                       outputs=[decoder_outputs, state_h, state_c],\n",
        "#                       name='decoder')"
      ],
      "execution_count": 0,
      "outputs": []
    },
    {
      "cell_type": "code",
      "metadata": {
        "id": "PpJagYO6AyHW",
        "colab_type": "code",
        "colab": {}
      },
      "source": [
        "# from IPython.display import SVG\n",
        "# from keras.utils.vis_utils import model_to_dot, plot_model\n",
        "\n",
        "# SVG(model_to_dot(decoder_model, show_shapes=False).create(prog='dot', format='svg'))\n",
        "\n",
        "# plot_model(\n",
        "#     model=decoder_model, show_shapes=False\n",
        "#     ,\n",
        "#     to_file='decoder.png'\n",
        "# )\n",
        "\n",
        "# decoder_model.summary()"
      ],
      "execution_count": 0,
      "outputs": []
    },
    {
      "cell_type": "markdown",
      "metadata": {
        "id": "CQ1sjj0KFVQs",
        "colab_type": "text"
      },
      "source": [
        "### 3.3. Connect the encoder and decoder"
      ]
    },
    {
      "cell_type": "code",
      "metadata": {
        "id": "vd9FcEvMFVQs",
        "colab_type": "code",
        "colab": {}
      },
      "source": [
        "\n",
        "# input layers\n",
        "encoder_input_x = Input(shape=(None, num_encoder_tokens), name='encoder_input_x')\n",
        "decoder_input_x = Input(shape=(None, num_decoder_tokens), name='decoder_input_x')\n",
        "\n",
        "\n",
        "\n",
        "encoder_final_states = encoder_model_bi([encoder_input_x])\n",
        "decoder_bilstm_output, state_h2, state_c2 = decoder_bilstm(decoder_input_x, initial_state= encoder_final_states)\n",
        "# decoder_bilstm_output, state_h, state_c = decoder_bilstm(decoder_input_x, initial_state=decoder_states_inputs)\n",
        "decoder_states = [state_h2, state_c2]\n",
        "\n",
        "# connect encoder to decoder\n",
        "decoder_pred = decoder_dense(decoder_bilstm_output)\n",
        "# model_bi = Model(inputs = [decoder_input_x] + decoder_states_inputs, outputs = [decoder_pred] + decoder_states, name='model_training')\n",
        "model_bi = Model(inputs = [encoder_input_x, decoder_input_x], outputs = decoder_pred, name='model_training')"
      ],
      "execution_count": 0,
      "outputs": []
    },
    {
      "cell_type": "code",
      "metadata": {
        "id": "GWRfG2MDI1HY",
        "colab_type": "code",
        "outputId": "0fab6b8b-59ca-4f7b-ba33-3744beea3b68",
        "colab": {
          "base_uri": "https://localhost:8080/",
          "height": 51
        }
      },
      "source": [
        "print(state_h)\n",
        "print(decoder_state_input_h)"
      ],
      "execution_count": 23,
      "outputs": [
        {
          "output_type": "stream",
          "text": [
            "Tensor(\"concatenate_1/concat:0\", shape=(?, 512), dtype=float32)\n",
            "Tensor(\"decoder_input_h:0\", shape=(?, 512), dtype=float32)\n"
          ],
          "name": "stdout"
        }
      ]
    },
    {
      "cell_type": "code",
      "metadata": {
        "id": "C7zw17NTJDOa",
        "colab_type": "code",
        "outputId": "80bed471-951a-4bb4-b9f5-2037cb56c9e6",
        "colab": {
          "base_uri": "https://localhost:8080/",
          "height": 357
        }
      },
      "source": [
        "from IPython.display import SVG\n",
        "from keras.utils.vis_utils import model_to_dot, plot_model\n",
        "\n",
        "SVG(model_to_dot(model_bi, show_shapes=False).create(prog='dot', format='svg'))\n",
        "\n",
        "plot_model(\n",
        "    model=model_bi, show_shapes=False\n",
        "    ,\n",
        "    to_file='model_training.png'\n",
        ")\n",
        "\n",
        "model_bi.summary()"
      ],
      "execution_count": 24,
      "outputs": [
        {
          "output_type": "stream",
          "text": [
            "Model: \"model_training\"\n",
            "__________________________________________________________________________________________________\n",
            "Layer (type)                    Output Shape         Param #     Connected to                     \n",
            "==================================================================================================\n",
            "encoder_input_x (InputLayer)    (None, None, 28)     0                                            \n",
            "__________________________________________________________________________________________________\n",
            "decoder_input_x (InputLayer)    (None, None, 30)     0                                            \n",
            "__________________________________________________________________________________________________\n",
            "encoder (Model)                 [(None, 512), (None, 583680      encoder_input_x[0][0]            \n",
            "__________________________________________________________________________________________________\n",
            "decoder_bilstm (LSTM)           [(None, None, 512),  1112064     decoder_input_x[0][0]            \n",
            "                                                                 encoder[1][0]                    \n",
            "                                                                 encoder[1][1]                    \n",
            "__________________________________________________________________________________________________\n",
            "decoder_dense (Dense)           (None, None, 30)     15390       decoder_bilstm[1][0]             \n",
            "==================================================================================================\n",
            "Total params: 1,711,134\n",
            "Trainable params: 1,711,134\n",
            "Non-trainable params: 0\n",
            "__________________________________________________________________________________________________\n"
          ],
          "name": "stdout"
        }
      ]
    },
    {
      "cell_type": "code",
      "metadata": {
        "id": "Rwp2-10JIozM",
        "colab_type": "code",
        "colab": {}
      },
      "source": [
        "# # input layers\n",
        "# encoder_input_x = Input(shape=(None, num_encoder_tokens), name='encoder_input_x')\n",
        "# decoder_input_x = Input(shape=(None, num_decoder_tokens), name='decoder_input_x')\n",
        "\n",
        "# # connect encoder to decoder\n",
        "# encoder_final_states = encoder_model([encoder_input_x])\n",
        "# decoder_lstm_output, _, _ = decoder_lstm(decoder_input_x, initial_state=encoder_final_states)\n",
        "# decoder_pred = decoder_dense(decoder_lstm_output)\n",
        "\n",
        "# model = Model(inputs=[encoder_input_x, decoder_input_x], \n",
        "#               outputs=decoder_pred, \n",
        "#               name='model_training')"
      ],
      "execution_count": 0,
      "outputs": []
    },
    {
      "cell_type": "code",
      "metadata": {
        "id": "PB5p2hQzFVQt",
        "colab_type": "code",
        "colab": {}
      },
      "source": [
        "# print(state_h)\n",
        "# print(decoder_input_h)"
      ],
      "execution_count": 0,
      "outputs": []
    },
    {
      "cell_type": "code",
      "metadata": {
        "id": "JUfGAs6tFVQu",
        "colab_type": "code",
        "colab": {}
      },
      "source": [
        "# from IPython.display import SVG\n",
        "# from keras.utils.vis_utils import model_to_dot, plot_model\n",
        "\n",
        "# SVG(model_to_dot(model, show_shapes=False).create(prog='dot', format='svg'))\n",
        "\n",
        "# plot_model(\n",
        "#     model=model, show_shapes=False\n",
        "#     ,\n",
        "#     to_file='model_training.png'\n",
        "# )\n",
        "\n",
        "# model.summary()"
      ],
      "execution_count": 0,
      "outputs": []
    },
    {
      "cell_type": "code",
      "metadata": {
        "id": "J4IA0IIJIl3b",
        "colab_type": "code",
        "colab": {}
      },
      "source": [
        ""
      ],
      "execution_count": 0,
      "outputs": []
    },
    {
      "cell_type": "markdown",
      "metadata": {
        "id": "xRUgMVIZFVQv",
        "colab_type": "text"
      },
      "source": [
        "### 3.5. Fit the model on the bilingual dataset\n",
        "\n",
        "- encoder_input_data: one-hot encode of the input language\n",
        "\n",
        "- decoder_input_data: one-hot encode of the input language\n",
        "\n",
        "- decoder_target_data: labels (left shift of decoder_input_data)\n",
        "\n",
        "- tune the hyper-parameters\n",
        "\n",
        "- stop when the validation loss stop decreasing."
      ]
    },
    {
      "cell_type": "code",
      "metadata": {
        "id": "vXb1BRaZFVQv",
        "colab_type": "code",
        "outputId": "8324d449-3a38-4432-e09b-cc9b9fb31ab2",
        "colab": {
          "base_uri": "https://localhost:8080/",
          "height": 68
        }
      },
      "source": [
        "print('shape of encoder_input_data' + str(encoder_input_data.shape))\n",
        "print('shape of decoder_input_data' + str(decoder_input_data.shape))\n",
        "print('shape of decoder_target_data' + str(decoder_target_data.shape))"
      ],
      "execution_count": 27,
      "outputs": [
        {
          "output_type": "stream",
          "text": [
            "shape of encoder_input_data(20000, 19, 28)\n",
            "shape of decoder_input_data(20000, 68, 30)\n",
            "shape of decoder_target_data(20000, 68, 30)\n"
          ],
          "name": "stdout"
        }
      ]
    },
    {
      "cell_type": "markdown",
      "metadata": {
        "id": "AhMIqiyamC9K",
        "colab_type": "text"
      },
      "source": [
        "assign GPU and CPU"
      ]
    },
    {
      "cell_type": "code",
      "metadata": {
        "id": "bhQ0UiS_mBWq",
        "colab_type": "code",
        "colab": {}
      },
      "source": [
        "# configure GPU and CPU\n",
        "# import tensorflow as tf\n",
        "# import warnings as wa\n",
        "# import keras\n",
        "\n",
        "# wa.filterwarnings(\"ignore\")\n",
        "\n",
        "# config0 = tf.ConfigProto( device_count = {'GPU': 1 , 'CPU': 64} ) \n",
        "# session0 = tf.Session(config=config0) \n",
        "# keras.backend.set_session(session0)"
      ],
      "execution_count": 0,
      "outputs": []
    },
    {
      "cell_type": "code",
      "metadata": {
        "id": "jfPRDJaJJWbK",
        "colab_type": "code",
        "outputId": "3a8500b7-b671-4af2-82d5-d5b17704a756",
        "colab": {
          "base_uri": "https://localhost:8080/",
          "height": 1000
        }
      },
      "source": [
        "model_bi.compile(optimizer='rmsprop', loss='categorical_crossentropy')\n",
        "\n",
        "model_bi.fit([encoder_input_data, decoder_input_data],  # training data\n",
        "          decoder_target_data,                       # labels (left shift of the target sequences)\n",
        "          batch_size=64, epochs=50, validation_split=0.2)\n",
        "\n",
        "model_bi.save('seq2seq_bi_01.h5')"
      ],
      "execution_count": 28,
      "outputs": [
        {
          "output_type": "stream",
          "text": [
            "WARNING:tensorflow:From /usr/local/lib/python3.6/dist-packages/keras/optimizers.py:793: The name tf.train.Optimizer is deprecated. Please use tf.compat.v1.train.Optimizer instead.\n",
            "\n",
            "WARNING:tensorflow:From /usr/local/lib/python3.6/dist-packages/keras/backend/tensorflow_backend.py:3576: The name tf.log is deprecated. Please use tf.math.log instead.\n",
            "\n",
            "WARNING:tensorflow:From /usr/local/lib/python3.6/dist-packages/tensorflow_core/python/ops/math_grad.py:1424: where (from tensorflow.python.ops.array_ops) is deprecated and will be removed in a future version.\n",
            "Instructions for updating:\n",
            "Use tf.where in 2.0, which has the same broadcast rule as np.where\n",
            "WARNING:tensorflow:From /usr/local/lib/python3.6/dist-packages/keras/backend/tensorflow_backend.py:1033: The name tf.assign_add is deprecated. Please use tf.compat.v1.assign_add instead.\n",
            "\n",
            "WARNING:tensorflow:From /usr/local/lib/python3.6/dist-packages/keras/backend/tensorflow_backend.py:1020: The name tf.assign is deprecated. Please use tf.compat.v1.assign instead.\n",
            "\n",
            "WARNING:tensorflow:From /usr/local/lib/python3.6/dist-packages/keras/backend/tensorflow_backend.py:3005: The name tf.Session is deprecated. Please use tf.compat.v1.Session instead.\n",
            "\n",
            "Train on 16000 samples, validate on 4000 samples\n",
            "Epoch 1/50\n",
            "WARNING:tensorflow:From /usr/local/lib/python3.6/dist-packages/keras/backend/tensorflow_backend.py:190: The name tf.get_default_session is deprecated. Please use tf.compat.v1.get_default_session instead.\n",
            "\n",
            "WARNING:tensorflow:From /usr/local/lib/python3.6/dist-packages/keras/backend/tensorflow_backend.py:197: The name tf.ConfigProto is deprecated. Please use tf.compat.v1.ConfigProto instead.\n",
            "\n",
            "WARNING:tensorflow:From /usr/local/lib/python3.6/dist-packages/keras/backend/tensorflow_backend.py:207: The name tf.global_variables is deprecated. Please use tf.compat.v1.global_variables instead.\n",
            "\n",
            "WARNING:tensorflow:From /usr/local/lib/python3.6/dist-packages/keras/backend/tensorflow_backend.py:216: The name tf.is_variable_initialized is deprecated. Please use tf.compat.v1.is_variable_initialized instead.\n",
            "\n",
            "WARNING:tensorflow:From /usr/local/lib/python3.6/dist-packages/keras/backend/tensorflow_backend.py:223: The name tf.variables_initializer is deprecated. Please use tf.compat.v1.variables_initializer instead.\n",
            "\n",
            "16000/16000 [==============================] - 322s 20ms/step - loss: 0.8065 - val_loss: 0.7133\n",
            "Epoch 2/50\n",
            "16000/16000 [==============================] - 320s 20ms/step - loss: 0.5830 - val_loss: 0.6285\n",
            "Epoch 3/50\n",
            "16000/16000 [==============================] - 321s 20ms/step - loss: 0.5288 - val_loss: 0.5761\n",
            "Epoch 4/50\n",
            "16000/16000 [==============================] - 317s 20ms/step - loss: 0.4845 - val_loss: 0.5403\n",
            "Epoch 5/50\n",
            "16000/16000 [==============================] - 317s 20ms/step - loss: 0.4527 - val_loss: 0.5090\n",
            "Epoch 6/50\n",
            "16000/16000 [==============================] - 316s 20ms/step - loss: 0.4315 - val_loss: 0.4799\n",
            "Epoch 7/50\n",
            "16000/16000 [==============================] - 316s 20ms/step - loss: 0.4068 - val_loss: 0.4654\n",
            "Epoch 8/50\n",
            "16000/16000 [==============================] - 313s 20ms/step - loss: 0.3900 - val_loss: 0.4513\n",
            "Epoch 9/50\n",
            "16000/16000 [==============================] - 317s 20ms/step - loss: 0.3731 - val_loss: 0.4335\n",
            "Epoch 10/50\n",
            "16000/16000 [==============================] - 320s 20ms/step - loss: 0.3592 - val_loss: 0.4241\n",
            "Epoch 11/50\n",
            "16000/16000 [==============================] - 322s 20ms/step - loss: 0.3449 - val_loss: 0.4100\n",
            "Epoch 12/50\n",
            "16000/16000 [==============================] - 323s 20ms/step - loss: 0.3322 - val_loss: 0.4003\n",
            "Epoch 13/50\n",
            "16000/16000 [==============================] - 325s 20ms/step - loss: 0.3207 - val_loss: 0.3931\n",
            "Epoch 14/50\n",
            "16000/16000 [==============================] - 331s 21ms/step - loss: 0.3102 - val_loss: 0.3850\n",
            "Epoch 15/50\n",
            "16000/16000 [==============================] - 338s 21ms/step - loss: 0.2991 - val_loss: 0.3775\n",
            "Epoch 16/50\n",
            "16000/16000 [==============================] - 340s 21ms/step - loss: 0.2904 - val_loss: 0.3754\n",
            "Epoch 17/50\n",
            "16000/16000 [==============================] - 337s 21ms/step - loss: 0.2816 - val_loss: 0.3666\n",
            "Epoch 18/50\n",
            "16000/16000 [==============================] - 337s 21ms/step - loss: 0.2729 - val_loss: 0.3630\n",
            "Epoch 19/50\n",
            "16000/16000 [==============================] - 335s 21ms/step - loss: 0.2655 - val_loss: 0.3589\n",
            "Epoch 20/50\n",
            "16000/16000 [==============================] - 334s 21ms/step - loss: 0.2582 - val_loss: 0.3550\n",
            "Epoch 21/50\n",
            "16000/16000 [==============================] - 335s 21ms/step - loss: 0.2511 - val_loss: 0.3534\n",
            "Epoch 22/50\n",
            "16000/16000 [==============================] - 331s 21ms/step - loss: 0.2444 - val_loss: 0.3501\n",
            "Epoch 23/50\n",
            "16000/16000 [==============================] - 327s 20ms/step - loss: 0.2387 - val_loss: 0.3505\n",
            "Epoch 24/50\n",
            "16000/16000 [==============================] - 324s 20ms/step - loss: 0.2324 - val_loss: 0.3477\n",
            "Epoch 25/50\n",
            "16000/16000 [==============================] - 328s 21ms/step - loss: 0.2267 - val_loss: 0.3459\n",
            "Epoch 26/50\n",
            "16000/16000 [==============================] - 332s 21ms/step - loss: 0.2210 - val_loss: 0.3449\n",
            "Epoch 27/50\n",
            "16000/16000 [==============================] - 326s 20ms/step - loss: 0.2167 - val_loss: 0.3463\n",
            "Epoch 28/50\n",
            "16000/16000 [==============================] - 328s 20ms/step - loss: 0.2119 - val_loss: 0.3435\n",
            "Epoch 29/50\n",
            "16000/16000 [==============================] - 326s 20ms/step - loss: 0.2068 - val_loss: 0.3425\n",
            "Epoch 30/50\n",
            "16000/16000 [==============================] - 327s 20ms/step - loss: 0.2030 - val_loss: 0.3432\n",
            "Epoch 31/50\n",
            "16000/16000 [==============================] - 327s 20ms/step - loss: 0.1983 - val_loss: 0.3413\n",
            "Epoch 32/50\n",
            "16000/16000 [==============================] - 322s 20ms/step - loss: 0.1941 - val_loss: 0.3442\n",
            "Epoch 33/50\n",
            "16000/16000 [==============================] - 328s 21ms/step - loss: 0.1902 - val_loss: 0.3432\n",
            "Epoch 34/50\n",
            "16000/16000 [==============================] - 324s 20ms/step - loss: 0.1866 - val_loss: 0.3457\n",
            "Epoch 35/50\n",
            "16000/16000 [==============================] - 321s 20ms/step - loss: 0.1831 - val_loss: 0.3455\n",
            "Epoch 36/50\n",
            "16000/16000 [==============================] - 319s 20ms/step - loss: 0.1793 - val_loss: 0.3472\n",
            "Epoch 37/50\n",
            "16000/16000 [==============================] - 325s 20ms/step - loss: 0.1756 - val_loss: 0.3500\n",
            "Epoch 38/50\n",
            "16000/16000 [==============================] - 327s 20ms/step - loss: 0.1720 - val_loss: 0.3501\n",
            "Epoch 39/50\n",
            "16000/16000 [==============================] - 322s 20ms/step - loss: 0.1693 - val_loss: 0.3506\n",
            "Epoch 40/50\n",
            "16000/16000 [==============================] - 321s 20ms/step - loss: 0.1664 - val_loss: 0.3525\n",
            "Epoch 41/50\n",
            "16000/16000 [==============================] - 324s 20ms/step - loss: 0.1621 - val_loss: 0.3540\n",
            "Epoch 42/50\n",
            "16000/16000 [==============================] - 322s 20ms/step - loss: 0.1595 - val_loss: 0.3561\n",
            "Epoch 43/50\n",
            "16000/16000 [==============================] - 328s 20ms/step - loss: 0.1566 - val_loss: 0.3578\n",
            "Epoch 44/50\n",
            "16000/16000 [==============================] - 326s 20ms/step - loss: 0.1545 - val_loss: 0.3571\n",
            "Epoch 45/50\n",
            "16000/16000 [==============================] - 325s 20ms/step - loss: 0.1515 - val_loss: 0.3633\n",
            "Epoch 46/50\n",
            "16000/16000 [==============================] - 327s 20ms/step - loss: 0.1497 - val_loss: 0.3587\n",
            "Epoch 47/50\n",
            "16000/16000 [==============================] - 322s 20ms/step - loss: 0.1463 - val_loss: 0.3659\n",
            "Epoch 48/50\n",
            "16000/16000 [==============================] - 326s 20ms/step - loss: 0.1442 - val_loss: 0.3640\n",
            "Epoch 49/50\n",
            "16000/16000 [==============================] - 323s 20ms/step - loss: 0.1414 - val_loss: 0.3635\n",
            "Epoch 50/50\n",
            "16000/16000 [==============================] - 323s 20ms/step - loss: 0.1401 - val_loss: 0.3670\n"
          ],
          "name": "stdout"
        }
      ]
    },
    {
      "cell_type": "code",
      "metadata": {
        "id": "FLcxprF1FVQw",
        "colab_type": "code",
        "colab": {}
      },
      "source": [
        "# model.compile(optimizer='rmsprop', loss='categorical_crossentropy')\n",
        "\n",
        "# model.fit([encoder_input_data, decoder_input_data],  # training data\n",
        "#           decoder_target_data,                       # labels (left shift of the target sequences)\n",
        "#           batch_size=64, epochs=50, validation_split=0.2)\n",
        "\n",
        "# model.save('seq2seq.h5')"
      ],
      "execution_count": 0,
      "outputs": []
    },
    {
      "cell_type": "markdown",
      "metadata": {
        "id": "zN4TvTYxFVQw",
        "colab_type": "text"
      },
      "source": [
        "## 4. Make predictions\n",
        "\n",
        "\n",
        "### 4.1. Translate English to XXX\n",
        "\n",
        "1. Encoder read a sentence (source language) and output its final states, $h_t$ and $c_t$.\n",
        "2. Take the [star] sign \"\\t\" and the final state $h_t$ and $c_t$ as input and run the decoder.\n",
        "3. Get the new states and predicted probability distribution.\n",
        "4. sample a char from the predicted probability distribution\n",
        "5. take the sampled char and the new states as input and repeat the process (stop if reach the [stop] sign \"\\n\")."
      ]
    },
    {
      "cell_type": "code",
      "metadata": {
        "id": "nbzUcA0dTUxv",
        "colab_type": "code",
        "colab": {}
      },
      "source": [
        "from keras.models import load_model\n",
        "# model=load_model('seq2seq_bi_01.h5')"
      ],
      "execution_count": 0,
      "outputs": []
    },
    {
      "cell_type": "code",
      "metadata": {
        "id": "IZV2anWQFVQw",
        "colab_type": "code",
        "colab": {}
      },
      "source": [
        "# Reverse-lookup token index to decode sequences back to something readable.\n",
        "reverse_input_char_index = dict((i, char) for char, i in input_token_index.items())\n",
        "reverse_target_char_index = dict((i, char) for char, i in target_token_index.items())"
      ],
      "execution_count": 0,
      "outputs": []
    },
    {
      "cell_type": "code",
      "metadata": {
        "id": "9bomnnMsFVQx",
        "colab_type": "code",
        "colab": {}
      },
      "source": [
        "def decode_sequence(input_seq):\n",
        "    states_value = encoder_model_bi.predict(input_seq)\n",
        "\n",
        "    target_seq = numpy.zeros((1, 1, num_decoder_tokens))\n",
        "    target_seq[0, 0, target_token_index['\\t']] = 1.\n",
        "\n",
        "    stop_condition = False\n",
        "    decoded_sentence = ''\n",
        "    while not stop_condition:\n",
        "        output_tokens, h, c = decoder_model_bi.predict([target_seq] + states_value)\n",
        "\n",
        "        # this line of code is greedy selection\n",
        "        # try to use multinomial sampling instead (with temperature)\n",
        "        sampled_token_index = numpy.argmax(output_tokens[0, -1, :])\n",
        "        \n",
        "        sampled_char = reverse_target_char_index[sampled_token_index]\n",
        "        decoded_sentence += sampled_char\n",
        "\n",
        "        if (sampled_char == '\\n' or\n",
        "           len(decoded_sentence) > max_decoder_seq_length):\n",
        "            stop_condition = True\n",
        "\n",
        "        target_seq = numpy.zeros((1, 1, num_decoder_tokens))\n",
        "        target_seq[0, 0, sampled_token_index] = 1.\n",
        "\n",
        "        states_value = [h, c]\n",
        "\n",
        "    return decoded_sentence\n"
      ],
      "execution_count": 0,
      "outputs": []
    },
    {
      "cell_type": "code",
      "metadata": {
        "id": "aLQiGHqNFVQy",
        "colab_type": "code",
        "outputId": "17afa8e6-8116-43d5-8fa1-e90cb9c9686a",
        "colab": {
          "base_uri": "https://localhost:8080/",
          "height": 1000
        }
      },
      "source": [
        "for seq_index in range(2100, 2120):\n",
        "    # Take one sequence (part of the training set)\n",
        "    # for trying out decoding.\n",
        "    input_seq = encoder_input_data[seq_index: seq_index + 1]\n",
        "    decoded_sentence = decode_sequence(input_seq)\n",
        "    print('-')\n",
        "    print('English:       ', input_texts[seq_index])\n",
        "    print('Spanish (true): ', target_texts[seq_index][1:-1])\n",
        "    print('Spanish (pred): ', decoded_sentence[0:-1])\n"
      ],
      "execution_count": 32,
      "outputs": [
        {
          "output_type": "stream",
          "text": [
            "-\n",
            "English:        is he right\n",
            "Spanish (true):  esta el bien\n",
            "Spanish (pred):  esta libre\n",
            "-\n",
            "English:        is he right\n",
            "Spanish (true):  se encuentra bien\n",
            "Spanish (pred):  esta libre\n",
            "-\n",
            "English:        is he right\n",
            "Spanish (true):  ha acertado\n",
            "Spanish (pred):  esta libre\n",
            "-\n",
            "English:        is he right\n",
            "Spanish (true):  esta en lo cierto\n",
            "Spanish (pred):  esta libre\n",
            "-\n",
            "English:        is he right\n",
            "Spanish (true):  es lo que el dice\n",
            "Spanish (pred):  esta libre\n",
            "-\n",
            "English:        is it clean\n",
            "Spanish (true):  esta limpio\n",
            "Spanish (pred):  esta limpio\n",
            "-\n",
            "English:        is it clean\n",
            "Spanish (true):  esta limpia\n",
            "Spanish (pred):  esta limpio\n",
            "-\n",
            "English:        is it there\n",
            "Spanish (true):  esta ahi\n",
            "Spanish (pred):  esta ahi\n",
            "-\n",
            "English:        is it to go\n",
            "Spanish (true):  para llevar\n",
            "Spanish (pred):  esta bien hoy\n",
            "-\n",
            "English:        is it windy\n",
            "Spanish (true):  esta ventoso\n",
            "Spanish (pred):  esta loco\n",
            "-\n",
            "English:        is it yours\n",
            "Spanish (true):  es suyo\n",
            "Spanish (pred):  es vuestro\n",
            "-\n",
            "English:        is it yours\n",
            "Spanish (true):  es vuestro\n",
            "Spanish (pred):  es vuestro\n",
            "-\n",
            "English:        is she nice\n",
            "Spanish (true):  ella es simpatica\n",
            "Spanish (pred):  ella es limente\n",
            "-\n",
            "English:        is that tom\n",
            "Spanish (true):  es ese tom\n",
            "Spanish (pred):  es ese tom\n",
            "-\n",
            "English:        is that all\n",
            "Spanish (true):  es todo\n",
            "Spanish (pred):  eso es bantante\n",
            "-\n",
            "English:        is that new\n",
            "Spanish (true):  es eso nuevo\n",
            "Spanish (pred):  es eso nuevo\n",
            "-\n",
            "English:        is that you\n",
            "Spanish (true):  eres tu\n",
            "Spanish (pred):  es esa tuyo\n",
            "-\n",
            "English:        is that you\n",
            "Spanish (true):  es usted\n",
            "Spanish (pred):  es esa tuyo\n",
            "-\n",
            "English:        is this new\n",
            "Spanish (true):  esto es nuevo\n",
            "Spanish (pred):  esto es nuevo\n",
            "-\n",
            "English:        it cant be\n",
            "Spanish (true):  no puede ser\n",
            "Spanish (pred):  no puede ser\n"
          ],
          "name": "stdout"
        }
      ]
    },
    {
      "cell_type": "markdown",
      "metadata": {
        "id": "kTFYAL_tFVQy",
        "colab_type": "text"
      },
      "source": [
        "### 4.2. Translate an English sentence to the target language\n",
        "\n",
        "1. Tokenization\n",
        "2. One-hot encode\n",
        "3. Translate"
      ]
    },
    {
      "cell_type": "code",
      "metadata": {
        "id": "m-n-udlFYkp7",
        "colab_type": "code",
        "colab": {}
      },
      "source": [
        "def transfer_str(str0, max_len = max_encoder_seq_length):\n",
        "  str0 = str0.strip().lower()\n",
        "  temp_vec = []\n",
        "  for indx, i in enumerate(str0):\n",
        "    if indx < max_len:\n",
        "      temp_vec.append(input_token_index[i])\n",
        "  temp_vec = pad_sequences([temp_vec], maxlen = max_len, padding = 'post')    \n",
        "  return temp_vec  \n"
      ],
      "execution_count": 0,
      "outputs": []
    },
    {
      "cell_type": "code",
      "metadata": {
        "id": "NWrlMjioFVQz",
        "colab_type": "code",
        "outputId": "b84b04a3-121f-4a10-e86c-32193691ef99",
        "colab": {
          "base_uri": "https://localhost:8080/",
          "height": 51
        }
      },
      "source": [
        "# input_sentence = 'why is that'\n",
        "\n",
        "# input_sequence = <do tokenization...>\n",
        "\n",
        "# input_x = <do one-hot encode...>\n",
        "\n",
        "# translated_sentence = <do translation...>\n",
        "\n",
        "# print('source sentence is: ' + input_sentence)\n",
        "# print('translated sentence is: ' + translated_sentence)\n",
        "\n",
        "\n",
        "\n",
        "input_sentence = 'why is that'\n",
        "input_sequence = transfer_str(input_sentence)\n",
        "input_x = onehot_encode(input_sequence, max_encoder_seq_length, num_encoder_tokens)\n",
        "translated_sentence = decode_sequence(input_x)\n",
        "print(translated_sentence)\n"
      ],
      "execution_count": 35,
      "outputs": [
        {
          "output_type": "stream",
          "text": [
            "por que esto\n",
            "\n"
          ],
          "name": "stdout"
        }
      ]
    },
    {
      "cell_type": "markdown",
      "metadata": {
        "id": "I4ySqpKnFVQz",
        "colab_type": "text"
      },
      "source": [
        "## 5. Evaluate the translation using BLEU score\n",
        "\n",
        "Reference: \n",
        "- https://machinelearningmastery.com/calculate-bleu-score-for-text-python/\n",
        "- https://en.wikipedia.org/wiki/BLEU\n",
        "\n",
        "\n",
        "**Hint:** \n",
        "\n",
        "- Randomly partition the dataset to training, validation, and test. \n",
        "\n",
        "- Evaluate the BLEU score using the test set. Report the average.\n",
        "\n",
        "- A reasonable BLEU score should be 0.1 ~ 0.3."
      ]
    },
    {
      "cell_type": "markdown",
      "metadata": {
        "id": "29MepH4cGGKb",
        "colab_type": "text"
      },
      "source": [
        "Randomly partition the dataset to training, validation, and test.\n",
        "\n",
        "1. shuffle the data set‘\n",
        "\n",
        "data preparation and processing"
      ]
    },
    {
      "cell_type": "code",
      "metadata": {
        "id": "cNxiZ4xTFVQ0",
        "colab_type": "code",
        "colab": {}
      },
      "source": [
        "# load dataset\n",
        "doc = load_doc(filename)\n",
        "\n",
        "# split into Language1-Language2 pairs\n",
        "pairs = to_pairs(doc)\n",
        "\n",
        "# clean sentences\n",
        "clean_pairs1 = clean_data(pairs)[0:60000, :]"
      ],
      "execution_count": 0,
      "outputs": []
    },
    {
      "cell_type": "code",
      "metadata": {
        "id": "4K7s-3Z0_QCc",
        "colab_type": "code",
        "outputId": "16bd5332-fafc-4dd9-adbe-67676cf7b1a4",
        "colab": {
          "base_uri": "https://localhost:8080/",
          "height": 34
        }
      },
      "source": [
        "# detect the number of elements in pairs\n",
        "# type(clean_pairs1)\n",
        "len(clean_pairs1)"
      ],
      "execution_count": 86,
      "outputs": [
        {
          "output_type": "execute_result",
          "data": {
            "text/plain": [
              "60000"
            ]
          },
          "metadata": {
            "tags": []
          },
          "execution_count": 86
        }
      ]
    },
    {
      "cell_type": "code",
      "metadata": {
        "id": "NRsXcG-JEwme",
        "colab_type": "code",
        "outputId": "c728f1e4-08b7-4337-fc44-0b155535da67",
        "colab": {
          "base_uri": "https://localhost:8080/",
          "height": 323
        }
      },
      "source": [
        "# look into data before shuffle\n",
        "print(clean_pairs1[0:15, :])"
      ],
      "execution_count": 87,
      "outputs": [
        {
          "output_type": "stream",
          "text": [
            "[['go' 've' 'ccby france attribution tatoebaorg cm cueyayotl']\n",
            " ['go' 'vete' 'ccby france attribution tatoebaorg cm cueyayotl']\n",
            " ['go' 'vaya' 'ccby france attribution tatoebaorg cm cueyayotl']\n",
            " ['go' 'vayase' 'ccby france attribution tatoebaorg cm arh']\n",
            " ['hi' 'hola' 'ccby france attribution tatoebaorg cm leono']\n",
            " ['run' 'corre'\n",
            "  'ccby france attribution tatoebaorg papabear elenitigormiti']\n",
            " ['run' 'corran' 'ccby france attribution tatoebaorg papabear cueyayotl']\n",
            " ['run' 'corra' 'ccby france attribution tatoebaorg papabear seael']\n",
            " ['run' 'corred' 'ccby france attribution tatoebaorg papabear seael']\n",
            " ['run' 'corred' 'ccby france attribution tatoebaorg jsakuragi arh']\n",
            " ['who' 'quien' 'ccby france attribution tatoebaorg ck shishir']\n",
            " ['wow' 'orale' 'ccby france attribution tatoebaorg zifre cueyayotl']\n",
            " ['fire' 'fuego' 'ccby france attribution tatoebaorg spamster shishir']\n",
            " ['fire' 'incendio'\n",
            "  'ccby france attribution tatoebaorg spamster marcelostockle']\n",
            " ['fire' 'disparad'\n",
            "  'ccby france attribution tatoebaorg spamster marcelostockle']]\n"
          ],
          "name": "stdout"
        }
      ]
    },
    {
      "cell_type": "code",
      "metadata": {
        "id": "3X563tdvELT_",
        "colab_type": "code",
        "outputId": "5151fa62-b1b4-4821-aeab-aea9893597cb",
        "colab": {
          "base_uri": "https://localhost:8080/",
          "height": 527
        }
      },
      "source": [
        "#shuffle data\n",
        "import numpy\n",
        "numpy.random.shuffle(clean_pairs1)\n",
        "# check data after shuffle\n",
        "print(clean_pairs1[0:15, :])"
      ],
      "execution_count": 88,
      "outputs": [
        {
          "output_type": "stream",
          "text": [
            "[['the lake is frozen' 'el lago esta helado'\n",
            "  'ccby france attribution tatoebaorg hybrid seael']\n",
            " ['she sleeps on her back' 'ella duerme de costado'\n",
            "  'ccby france attribution tatoebaorg nancy']\n",
            " ['tom started flipping out' 'tom empezo a perder los papeles'\n",
            "  'ccby france attribution tatoebaorg cm albrusgher']\n",
            " ['we rented the apartment' 'alquilamos el departamento'\n",
            "  'ccby france attribution tatoebaorg eldad donramon']\n",
            " ['i want to hire you' 'te quiero contratar'\n",
            "  'ccby france attribution tatoebaorg ck hayastan']\n",
            " ['i made a deal with tom' 'hice un trato con tom'\n",
            "  'ccby france attribution tatoebaorg ck pchamorro']\n",
            " ['tom eventually confessed' 'tom finalmente confeso'\n",
            "  'ccby france attribution tatoebaorg ck albrusgher']\n",
            " ['im waiting for a phone call' 'estoy esperando una llamada'\n",
            "  'ccby france attribution tatoebaorg ck schuager']\n",
            " ['tom cut his finger' 'tomas se corto el dedo'\n",
            "  'ccby france attribution tatoebaorg ck donramon']\n",
            " ['i dont feel up to it' 'no me siento capaz de hacerlo'\n",
            "  'ccby france attribution tatoebaorg alexander rafmagon']\n",
            " ['take it easy' 'relajate'\n",
            "  'ccby france attribution tatoebaorg ck hayastan']\n",
            " ['the front door wont open' 'la puerta del frente no se abre'\n",
            "  'ccby france attribution tatoebaorg ck marcelostockle']\n",
            " ['its not so far' 'no esta tan lejos'\n",
            "  'ccby france attribution tatoebaorg ck shishir']\n",
            " ['he showed me the way' 'el me mostro el camino'\n",
            "  'ccby france attribution tatoebaorg spamster marcelostockle']\n",
            " ['they know what we did' 'ellos saben lo que hicimos'\n",
            "  'ccby france attribution tatoebaorg ck nancy']]\n"
          ],
          "name": "stdout"
        }
      ]
    },
    {
      "cell_type": "code",
      "metadata": {
        "id": "_clJ69-aGoGv",
        "colab_type": "code",
        "outputId": "88cd885f-00f0-4467-af8b-6383a03d6e4a",
        "colab": {
          "base_uri": "https://localhost:8080/",
          "height": 34
        }
      },
      "source": [
        "# #  after  randomly shuffle, select 25000 data as full data set, -- 20k training, 5k test\n",
        "# later will split\n",
        "n_full = 20000\n",
        "clean_pairs_f = clean_pairs1[0:n_full, :]\n",
        "# check the partition --- total number of data : 122936\n",
        "len(clean_pairs_f)\n",
        "# len(clean_test)"
      ],
      "execution_count": 89,
      "outputs": [
        {
          "output_type": "execute_result",
          "data": {
            "text/plain": [
              "20000"
            ]
          },
          "metadata": {
            "tags": []
          },
          "execution_count": 89
        }
      ]
    },
    {
      "cell_type": "code",
      "metadata": {
        "id": "c8tziEhRIQeB",
        "colab_type": "code",
        "outputId": "fb3acdf1-39fd-4ebb-d692-f3b2464bb054",
        "colab": {
          "base_uri": "https://localhost:8080/",
          "height": 187
        }
      },
      "source": [
        "for i in range(1000, 1010):\n",
        "    print('[' + clean_pairs_f[i, 0] + '] => [' + clean_pairs_f[i, 1] + ']')"
      ],
      "execution_count": 90,
      "outputs": [
        {
          "output_type": "stream",
          "text": [
            "[im not sure im ready] => [no estoy segura de estar preparada]\n",
            "[the milk tastes sour] => [la leche tiene un sabor agrio]\n",
            "[tom is a slow walker] => [tom camina lentamente]\n",
            "[can you open this door] => [puede abrir esta puerta]\n",
            "[i have an older brother] => [tengo un hermano mayor]\n",
            "[i cant stay here forever] => [no puedo quedarme aqui para siempre]\n",
            "[tom had to resign] => [tom tuvo que renunciar]\n",
            "[write your name in pencil] => [escribe tu nombre con lapiz]\n",
            "[she has a beautiful voice] => [ella tiene una bonita voz]\n",
            "[i used to eat pizza] => [yo solia comer pizza]\n"
          ],
          "name": "stdout"
        }
      ]
    },
    {
      "cell_type": "code",
      "metadata": {
        "id": "5TgSpwAeIk-l",
        "colab_type": "code",
        "outputId": "c618f06a-ba4b-4d38-96d5-a6a108066553",
        "colab": {
          "base_uri": "https://localhost:8080/",
          "height": 51
        }
      },
      "source": [
        "input_texts1 = clean_pairs_f[:, 0]\n",
        "target_texts1 = ['\\t' + text + '\\n' for text in clean_pairs_f[:, 1]]\n",
        "\n",
        "print('Length of input_texts:  ' + str(input_texts1.shape))\n",
        "print('Length of target_texts: ' + str(input_texts1.shape))"
      ],
      "execution_count": 91,
      "outputs": [
        {
          "output_type": "stream",
          "text": [
            "Length of input_texts:  (20000,)\n",
            "Length of target_texts: (20000,)\n"
          ],
          "name": "stdout"
        }
      ]
    },
    {
      "cell_type": "code",
      "metadata": {
        "id": "Y3zKnv-gJt3Y",
        "colab_type": "code",
        "outputId": "9e9d0067-3108-46f9-d959-25611828e798",
        "colab": {
          "base_uri": "https://localhost:8080/",
          "height": 51
        }
      },
      "source": [
        "max_encoder_seq_length1 = max(len(line) for line in input_texts1)\n",
        "max_decoder_seq_length1 = max(len(line) for line in target_texts1)\n",
        "\n",
        "print('max length of input  sentences: %d' % (max_encoder_seq_length1))\n",
        "print('max length of target sentences: %d' % (max_decoder_seq_length1))"
      ],
      "execution_count": 92,
      "outputs": [
        {
          "output_type": "stream",
          "text": [
            "max length of input  sentences: 28\n",
            "max length of target sentences: 62\n"
          ],
          "name": "stdout"
        }
      ]
    },
    {
      "cell_type": "code",
      "metadata": {
        "id": "E9hfuaQ-JvRB",
        "colab_type": "code",
        "outputId": "f3d7beab-e997-483e-ec9e-7a0ba63acdc0",
        "colab": {
          "base_uri": "https://localhost:8080/",
          "height": 85
        }
      },
      "source": [
        "from keras.preprocessing.text import Tokenizer\n",
        "from keras.preprocessing.sequence import pad_sequences\n",
        "\n",
        "# encode and pad sequences\n",
        "def text2sequences(max_len, lines):\n",
        "    tokenizer = Tokenizer(char_level=True, filters='')\n",
        "    tokenizer.fit_on_texts(lines)\n",
        "    seqs = tokenizer.texts_to_sequences(lines)\n",
        "    seqs_pad = pad_sequences(seqs, maxlen=max_len, padding='post')\n",
        "    return seqs_pad, tokenizer.word_index, tokenizer\n",
        "\n",
        "\n",
        "encoder_input_seq1, input_token_index1, english_tokenizer = text2sequences(max_encoder_seq_length1, \n",
        "                                                      input_texts1)\n",
        "decoder_input_seq1, target_token_index1, spanish_tokenizer = text2sequences(max_decoder_seq_length1, \n",
        "                                                       target_texts1)\n",
        "\n",
        "print('shape of encoder_input_seq1: ' + str(encoder_input_seq1.shape))\n",
        "print('shape of input_token_index1: ' + str(len(input_token_index1)))\n",
        "print('shape of decoder_input_seq1: ' + str(decoder_input_seq1.shape))\n",
        "print('shape of target_token_index1: ' + str(len(target_token_index1)))"
      ],
      "execution_count": 93,
      "outputs": [
        {
          "output_type": "stream",
          "text": [
            "shape of encoder_input_seq1: (20000, 28)\n",
            "shape of input_token_index1: 27\n",
            "shape of decoder_input_seq1: (20000, 62)\n",
            "shape of target_token_index1: 29\n"
          ],
          "name": "stdout"
        }
      ]
    },
    {
      "cell_type": "code",
      "metadata": {
        "id": "8rfju9AJbu8T",
        "colab_type": "code",
        "colab": {
          "base_uri": "https://localhost:8080/",
          "height": 51
        },
        "outputId": "43979ba2-7e39-4b8a-f4d3-f80e2c9c4d95"
      },
      "source": [
        "num_encoder_tokens1 = len(input_token_index1) + 1\n",
        "num_decoder_tokens1 = len(target_token_index1) + 1\n",
        "\n",
        "print('num_encoder_tokens: ' + str(num_encoder_tokens1))\n",
        "print('num_decoder_tokens: ' + str(num_decoder_tokens1))"
      ],
      "execution_count": 94,
      "outputs": [
        {
          "output_type": "stream",
          "text": [
            "num_encoder_tokens: 28\n",
            "num_decoder_tokens: 30\n"
          ],
          "name": "stdout"
        }
      ]
    },
    {
      "cell_type": "code",
      "metadata": {
        "id": "dbUKD2VPcpar",
        "colab_type": "code",
        "colab": {
          "base_uri": "https://localhost:8080/",
          "height": 34
        },
        "outputId": "9bf6d99f-2bb1-4af4-83d5-39922446a104"
      },
      "source": [
        "target_texts1[100]"
      ],
      "execution_count": 95,
      "outputs": [
        {
          "output_type": "execute_result",
          "data": {
            "text/plain": [
              "'\\tcuando viniste a japon\\n'"
            ]
          },
          "metadata": {
            "tags": []
          },
          "execution_count": 95
        }
      ]
    },
    {
      "cell_type": "code",
      "metadata": {
        "id": "SfL2whhccraK",
        "colab_type": "code",
        "colab": {
          "base_uri": "https://localhost:8080/",
          "height": 85
        },
        "outputId": "4cf8f038-2639-4332-97b2-165749776b2e"
      },
      "source": [
        "decoder_input_seq1[100, :]"
      ],
      "execution_count": 96,
      "outputs": [
        {
          "output_type": "execute_result",
          "data": {
            "text/plain": [
              "array([10, 16, 13,  3,  6, 15,  4,  1, 19,  9,  6,  9,  5,  8,  2,  1,  3,\n",
              "        1, 25,  3, 17,  4,  6, 11,  0,  0,  0,  0,  0,  0,  0,  0,  0,  0,\n",
              "        0,  0,  0,  0,  0,  0,  0,  0,  0,  0,  0,  0,  0,  0,  0,  0,  0,\n",
              "        0,  0,  0,  0,  0,  0,  0,  0,  0,  0,  0], dtype=int32)"
            ]
          },
          "metadata": {
            "tags": []
          },
          "execution_count": 96
        }
      ]
    },
    {
      "cell_type": "markdown",
      "metadata": {
        "id": "eIlbyMeceBFi",
        "colab_type": "text"
      },
      "source": [
        "one-hot encode\n",
        " "
      ]
    },
    {
      "cell_type": "code",
      "metadata": {
        "id": "HXV9rw6iedTK",
        "colab_type": "code",
        "colab": {
          "base_uri": "https://localhost:8080/",
          "height": 68
        },
        "outputId": "0bacde36-be0f-4ead-f017-968c67cbd756"
      },
      "source": [
        "from keras.utils import to_categorical\n",
        "\n",
        "# one hot encode target sequence\n",
        "def onehot_encode(sequences, max_len, vocab_size):\n",
        "    n = len(sequences)\n",
        "    data = numpy.zeros((n, max_len, vocab_size))\n",
        "    for i in range(n):\n",
        "        data[i, :, :] = to_categorical(sequences[i], num_classes=vocab_size)\n",
        "    return data\n",
        "\n",
        "encoder_input_data1 = onehot_encode(encoder_input_seq1, max_encoder_seq_length1, num_encoder_tokens1)\n",
        "decoder_input_data1 = onehot_encode(decoder_input_seq1, max_decoder_seq_length1, num_decoder_tokens1)\n",
        "\n",
        "decoder_target_seq1 = numpy.zeros(decoder_input_seq1.shape)\n",
        "decoder_target_seq1[:, 0:-1] = decoder_input_seq1[:, 1:]\n",
        "decoder_target_data1 = onehot_encode(decoder_target_seq1, \n",
        "                                    max_decoder_seq_length1, \n",
        "                                    num_decoder_tokens1)\n",
        "\n",
        "print(decoder_target_data1.shape)\n",
        "print(encoder_input_data1.shape)\n",
        "print(decoder_input_data1.shape)"
      ],
      "execution_count": 97,
      "outputs": [
        {
          "output_type": "stream",
          "text": [
            "(20000, 62, 30)\n",
            "(20000, 28, 28)\n",
            "(20000, 62, 30)\n"
          ],
          "name": "stdout"
        }
      ]
    },
    {
      "cell_type": "code",
      "metadata": {
        "id": "5mHY0ccNfgha",
        "colab_type": "code",
        "colab": {
          "base_uri": "https://localhost:8080/",
          "height": 119
        },
        "outputId": "eeb78d31-a59a-4d93-cf88-c989a2b5a650"
      },
      "source": [
        "# split data here into training and test\n",
        "training_size = 15000\n",
        "# get training set\n",
        "encoder_input_data_training = encoder_input_data1[0:training_size, :, : ]\n",
        "decoder_input_data_training = decoder_input_data1[0:training_size, :, : ]\n",
        "decoder_target_data_training = decoder_target_data1[0:training_size, :, : ]\n",
        "\n",
        "print(encoder_input_data_training.shape)\n",
        "print(decoder_input_data_training.shape)\n",
        "print(decoder_target_data_training.shape)\n",
        "\n",
        "# get test set\n",
        "encoder_input_data_test = encoder_input_data1[training_size:, :, : ]\n",
        "decoder_input_data_test = decoder_input_data1[training_size:, :, : ]\n",
        "decoder_target_data_test = decoder_target_data1[training_size:, :, : ]\n",
        "\n",
        "print(encoder_input_data_test.shape)\n",
        "print(decoder_input_data_test.shape)\n",
        "print(decoder_target_data_test.shape)"
      ],
      "execution_count": 98,
      "outputs": [
        {
          "output_type": "stream",
          "text": [
            "(15000, 28, 28)\n",
            "(15000, 62, 30)\n",
            "(15000, 62, 30)\n",
            "(5000, 28, 28)\n",
            "(5000, 62, 30)\n",
            "(5000, 62, 30)\n"
          ],
          "name": "stdout"
        }
      ]
    },
    {
      "cell_type": "markdown",
      "metadata": {
        "id": "kleR6mVYxEM0",
        "colab_type": "text"
      },
      "source": [
        "encoder network"
      ]
    },
    {
      "cell_type": "code",
      "metadata": {
        "id": "m4JsCSd3wzcP",
        "colab_type": "code",
        "colab": {}
      },
      "source": [
        "# create BILSTM model\n",
        "\n",
        "from keras.layers import LSTM,Bidirectional,Input,Concatenate\n",
        "from keras.models import Model\n",
        "\n",
        "latent_dim = 256\n",
        "num_encoder_tokens = num_encoder_tokens1\n",
        "\n",
        "# inputs of the encoder network\n",
        "encoder_inputs = Input(shape=(None, num_encoder_tokens), \n",
        "                       name='encoder_inputs')\n",
        "\n",
        "# set the LSTM layer\n",
        "encoder_bilstm = Bidirectional(LSTM(latent_dim, return_state=True, dropout=0.5, name='encoder_bilstm'))\n",
        "encoder_outputs, forward_h, forward_c, backward_h, backward_c = encoder_bilstm(encoder_inputs)\n",
        "state_h = Concatenate()([forward_h, backward_h])\n",
        "state_c = Concatenate()([forward_c, backward_c])\n",
        "encoder_states = [state_h, state_c]\n",
        "# build the encoder network model\n",
        "encoder_model_bi = Model(inputs = encoder_inputs, outputs = encoder_states, name = 'encoder')"
      ],
      "execution_count": 0,
      "outputs": []
    },
    {
      "cell_type": "code",
      "metadata": {
        "id": "LMcFGkhQx6U4",
        "colab_type": "code",
        "colab": {
          "base_uri": "https://localhost:8080/",
          "height": 323
        },
        "outputId": "8e679045-6865-4e83-fd4f-48ef1cb3715e"
      },
      "source": [
        "from IPython.display import SVG\n",
        "from keras.utils.vis_utils import model_to_dot, plot_model\n",
        "\n",
        "SVG(model_to_dot(encoder_model_bi, show_shapes=False).create(prog='dot', format='svg'))\n",
        "\n",
        "plot_model(\n",
        "    model=encoder_model_bi, show_shapes=False\n",
        "    ,\n",
        "    to_file='encoder.png'\n",
        ")\n",
        "\n",
        "encoder_model_bi.summary()"
      ],
      "execution_count": 100,
      "outputs": [
        {
          "output_type": "stream",
          "text": [
            "Model: \"encoder\"\n",
            "__________________________________________________________________________________________________\n",
            "Layer (type)                    Output Shape         Param #     Connected to                     \n",
            "==================================================================================================\n",
            "encoder_inputs (InputLayer)     (None, None, 28)     0                                            \n",
            "__________________________________________________________________________________________________\n",
            "bidirectional_1 (Bidirectional) [(None, 512), (None, 583680      encoder_inputs[0][0]             \n",
            "__________________________________________________________________________________________________\n",
            "concatenate_1 (Concatenate)     (None, 512)          0           bidirectional_1[0][1]            \n",
            "                                                                 bidirectional_1[0][3]            \n",
            "__________________________________________________________________________________________________\n",
            "concatenate_2 (Concatenate)     (None, 512)          0           bidirectional_1[0][2]            \n",
            "                                                                 bidirectional_1[0][4]            \n",
            "==================================================================================================\n",
            "Total params: 583,680\n",
            "Trainable params: 583,680\n",
            "Non-trainable params: 0\n",
            "__________________________________________________________________________________________________\n"
          ],
          "name": "stdout"
        }
      ]
    },
    {
      "cell_type": "markdown",
      "metadata": {
        "id": "jUptZrgjyCLh",
        "colab_type": "text"
      },
      "source": [
        "decoder networks"
      ]
    },
    {
      "cell_type": "code",
      "metadata": {
        "id": "i7dGuioZyE4d",
        "colab_type": "code",
        "colab": {}
      },
      "source": [
        "from keras.layers import Input, LSTM, Dense\n",
        "from keras.models import Model\n",
        "\n",
        "num_decoder_tokens = num_decoder_tokens1\n",
        "\n",
        "# inputs of the decoder network\n",
        "decoder_input_x = Input(shape=(None, num_decoder_tokens), name='decoder_input_x')\n",
        "\n",
        "decoder_state_input_h = Input(shape=(latent_dim *2,), name='decoder_input_h')\n",
        "decoder_state_input_c = Input(shape=(latent_dim *2,), name='decoder_input_c')\n",
        "decoder_states_inputs = [decoder_state_input_h, decoder_state_input_c]\n",
        "\n",
        "# set the LSTM layer\n",
        "decoder_bilstm = LSTM(latent_dim * 2, return_sequences=True, return_state=True, dropout=0.5, name='decoder_bilstm')\n",
        "decoder_bilstm_outputs, state_h1, state_c1 = decoder_bilstm(decoder_input_x, initial_state=decoder_states_inputs)\n",
        "\n",
        "# set the dense layer\n",
        "decoder_dense = Dense(num_decoder_tokens, activation='softmax', name='decoder_dense')\n",
        "decoder_outputs = decoder_dense(decoder_bilstm_outputs)\n",
        "\n",
        "# build the decoder network model\n",
        "decoder_model_bi = Model(inputs=[decoder_input_x, decoder_state_input_h, decoder_state_input_c],\n",
        "                      outputs=[decoder_outputs, state_h1, state_c1],\n",
        "                      name='decoder')"
      ],
      "execution_count": 0,
      "outputs": []
    },
    {
      "cell_type": "code",
      "metadata": {
        "id": "kWyIWQ3Kyd3j",
        "colab_type": "code",
        "colab": {
          "base_uri": "https://localhost:8080/",
          "height": 357
        },
        "outputId": "2f80e054-2768-4c72-a68f-c3fce8e82e8a"
      },
      "source": [
        "from IPython.display import SVG\n",
        "from keras.utils.vis_utils import model_to_dot, plot_model\n",
        "\n",
        "SVG(model_to_dot(decoder_model_bi, show_shapes=False).create(prog='dot', format='svg'))\n",
        "\n",
        "plot_model(\n",
        "    model=decoder_model_bi, show_shapes=False\n",
        "    ,\n",
        "    to_file='decoder.png'\n",
        ")\n",
        "\n",
        "decoder_model_bi.summary()"
      ],
      "execution_count": 102,
      "outputs": [
        {
          "output_type": "stream",
          "text": [
            "Model: \"decoder\"\n",
            "__________________________________________________________________________________________________\n",
            "Layer (type)                    Output Shape         Param #     Connected to                     \n",
            "==================================================================================================\n",
            "decoder_input_x (InputLayer)    (None, None, 30)     0                                            \n",
            "__________________________________________________________________________________________________\n",
            "decoder_input_h (InputLayer)    (None, 512)          0                                            \n",
            "__________________________________________________________________________________________________\n",
            "decoder_input_c (InputLayer)    (None, 512)          0                                            \n",
            "__________________________________________________________________________________________________\n",
            "decoder_bilstm (LSTM)           [(None, None, 512),  1112064     decoder_input_x[0][0]            \n",
            "                                                                 decoder_input_h[0][0]            \n",
            "                                                                 decoder_input_c[0][0]            \n",
            "__________________________________________________________________________________________________\n",
            "decoder_dense (Dense)           (None, None, 30)     15390       decoder_bilstm[0][0]             \n",
            "==================================================================================================\n",
            "Total params: 1,127,454\n",
            "Trainable params: 1,127,454\n",
            "Non-trainable params: 0\n",
            "__________________________________________________________________________________________________\n"
          ],
          "name": "stdout"
        }
      ]
    },
    {
      "cell_type": "markdown",
      "metadata": {
        "id": "5jW6qkXeyhV1",
        "colab_type": "text"
      },
      "source": [
        " Connect the encoder and decoder"
      ]
    },
    {
      "cell_type": "code",
      "metadata": {
        "id": "2HUIf-cXykaG",
        "colab_type": "code",
        "colab": {}
      },
      "source": [
        "# input layers\n",
        "encoder_input_x = Input(shape=(None, num_encoder_tokens), name='encoder_input_x')\n",
        "decoder_input_x = Input(shape=(None, num_decoder_tokens), name='decoder_input_x')\n",
        "\n",
        "\n",
        "\n",
        "encoder_final_states = encoder_model_bi([encoder_input_x])\n",
        "decoder_bilstm_output, state_h2, state_c2 = decoder_bilstm(decoder_input_x, initial_state= encoder_final_states)\n",
        "decoder_states = [state_h2, state_c2]\n",
        "\n",
        "# connect encoder to decoder\n",
        "decoder_pred = decoder_dense(decoder_bilstm_output)\n",
        "model_bi_01 = Model(inputs = [encoder_input_x, decoder_input_x], outputs = decoder_pred, name='model_training')"
      ],
      "execution_count": 0,
      "outputs": []
    },
    {
      "cell_type": "code",
      "metadata": {
        "id": "yVEoX4NIy6hN",
        "colab_type": "code",
        "colab": {
          "base_uri": "https://localhost:8080/",
          "height": 51
        },
        "outputId": "7e4dca2e-1441-4586-d1cd-053c2ff32358"
      },
      "source": [
        "print(state_h)\n",
        "print(decoder_state_input_h)"
      ],
      "execution_count": 104,
      "outputs": [
        {
          "output_type": "stream",
          "text": [
            "Tensor(\"concatenate_1/concat:0\", shape=(?, 512), dtype=float32)\n",
            "Tensor(\"decoder_input_h:0\", shape=(?, 512), dtype=float32)\n"
          ],
          "name": "stdout"
        }
      ]
    },
    {
      "cell_type": "code",
      "metadata": {
        "id": "YwkJkmDry-EY",
        "colab_type": "code",
        "colab": {
          "base_uri": "https://localhost:8080/",
          "height": 357
        },
        "outputId": "4dfa6e84-d243-40dc-b009-c5d262f63734"
      },
      "source": [
        "from IPython.display import SVG\n",
        "from keras.utils.vis_utils import model_to_dot, plot_model\n",
        "\n",
        "SVG(model_to_dot(model_bi_01, show_shapes=False).create(prog='dot', format='svg'))\n",
        "\n",
        "plot_model(\n",
        "    model=model_bi_01, show_shapes=False\n",
        "    ,\n",
        "    to_file='model_training.png'\n",
        ")\n",
        "\n",
        "model_bi_01.summary()"
      ],
      "execution_count": 105,
      "outputs": [
        {
          "output_type": "stream",
          "text": [
            "Model: \"model_training\"\n",
            "__________________________________________________________________________________________________\n",
            "Layer (type)                    Output Shape         Param #     Connected to                     \n",
            "==================================================================================================\n",
            "encoder_input_x (InputLayer)    (None, None, 28)     0                                            \n",
            "__________________________________________________________________________________________________\n",
            "decoder_input_x (InputLayer)    (None, None, 30)     0                                            \n",
            "__________________________________________________________________________________________________\n",
            "encoder (Model)                 [(None, 512), (None, 583680      encoder_input_x[0][0]            \n",
            "__________________________________________________________________________________________________\n",
            "decoder_bilstm (LSTM)           [(None, None, 512),  1112064     decoder_input_x[0][0]            \n",
            "                                                                 encoder[1][0]                    \n",
            "                                                                 encoder[1][1]                    \n",
            "__________________________________________________________________________________________________\n",
            "decoder_dense (Dense)           (None, None, 30)     15390       decoder_bilstm[1][0]             \n",
            "==================================================================================================\n",
            "Total params: 1,711,134\n",
            "Trainable params: 1,711,134\n",
            "Non-trainable params: 0\n",
            "__________________________________________________________________________________________________\n"
          ],
          "name": "stdout"
        }
      ]
    },
    {
      "cell_type": "markdown",
      "metadata": {
        "id": "Vs4owahvzL2n",
        "colab_type": "text"
      },
      "source": [
        " Fit the model on the training set"
      ]
    },
    {
      "cell_type": "code",
      "metadata": {
        "id": "04GQHYPozIC4",
        "colab_type": "code",
        "colab": {
          "base_uri": "https://localhost:8080/",
          "height": 119
        },
        "outputId": "57429ce1-0153-4c0b-ecb3-cd8da568784d"
      },
      "source": [
        "# print(encoder_input_data_training.shape)\n",
        "# print(decoder_input_data_training.shape)\n",
        "\n",
        "print('shape of encoder_input_data_training' + str(encoder_input_data_training.shape))\n",
        "print('shape of decoder_input_data_training' + str(decoder_input_data_training.shape))\n",
        "print('shape of decoder_target_data_training' + str(decoder_target_data_training.shape))\n",
        "print('shape of encoder_input_data_test' + str(encoder_input_data_test.shape))\n",
        "print('shape of decoder_input_data_test' + str(decoder_input_data_test.shape))\n",
        "print('shape of decoder_target_data_test' + str(decoder_target_data_test.shape))"
      ],
      "execution_count": 106,
      "outputs": [
        {
          "output_type": "stream",
          "text": [
            "shape of encoder_input_data_training(15000, 28, 28)\n",
            "shape of decoder_input_data_training(15000, 62, 30)\n",
            "shape of decoder_target_data_training(15000, 62, 30)\n",
            "shape of encoder_input_data_test(5000, 28, 28)\n",
            "shape of decoder_input_data_test(5000, 62, 30)\n",
            "shape of decoder_target_data_test(5000, 62, 30)\n"
          ],
          "name": "stdout"
        }
      ]
    },
    {
      "cell_type": "code",
      "metadata": {
        "id": "YpacXwZ00yeZ",
        "colab_type": "code",
        "colab": {
          "base_uri": "https://localhost:8080/",
          "height": 884
        },
        "outputId": "a5d01caf-881e-4f1d-f5b4-386f7faf4409"
      },
      "source": [
        "model_bi_01.compile(optimizer='rmsprop', loss='categorical_crossentropy')\n",
        "\n",
        "model_bi_01.fit([encoder_input_data_training, decoder_input_data_training],  # training data\n",
        "          decoder_target_data_training,                       # labels (left shift of the target sequences)\n",
        "          batch_size=64, epochs=25, validation_data= ([encoder_input_data_test, decoder_input_data_test], decoder_target_data_test))\n",
        "\n",
        "model_bi_01.save('seq2seq_bi_02.h5')"
      ],
      "execution_count": 107,
      "outputs": [
        {
          "output_type": "stream",
          "text": [
            "Train on 15000 samples, validate on 5000 samples\n",
            "Epoch 1/25\n",
            "15000/15000 [==============================] - 224s 15ms/step - loss: 1.1913 - val_loss: 0.8605\n",
            "Epoch 2/25\n",
            "15000/15000 [==============================] - 219s 15ms/step - loss: 0.8820 - val_loss: 0.7675\n",
            "Epoch 3/25\n",
            "15000/15000 [==============================] - 217s 14ms/step - loss: 0.8003 - val_loss: 0.7060\n",
            "Epoch 4/25\n",
            "15000/15000 [==============================] - 218s 15ms/step - loss: 0.7464 - val_loss: 0.6662\n",
            "Epoch 5/25\n",
            "15000/15000 [==============================] - 219s 15ms/step - loss: 0.7048 - val_loss: 0.6501\n",
            "Epoch 6/25\n",
            "15000/15000 [==============================] - 218s 15ms/step - loss: 0.6726 - val_loss: 0.6042\n",
            "Epoch 7/25\n",
            "15000/15000 [==============================] - 218s 15ms/step - loss: 0.6441 - val_loss: 0.5801\n",
            "Epoch 8/25\n",
            "15000/15000 [==============================] - 218s 15ms/step - loss: 0.6182 - val_loss: 0.5554\n",
            "Epoch 9/25\n",
            "15000/15000 [==============================] - 218s 15ms/step - loss: 0.5957 - val_loss: 0.5361\n",
            "Epoch 10/25\n",
            "15000/15000 [==============================] - 217s 14ms/step - loss: 0.5746 - val_loss: 0.5224\n",
            "Epoch 11/25\n",
            "15000/15000 [==============================] - 218s 15ms/step - loss: 0.5565 - val_loss: 0.5085\n",
            "Epoch 12/25\n",
            "15000/15000 [==============================] - 221s 15ms/step - loss: 0.5386 - val_loss: 0.5014\n",
            "Epoch 13/25\n",
            "15000/15000 [==============================] - 228s 15ms/step - loss: 0.5228 - val_loss: 0.4773\n",
            "Epoch 14/25\n",
            "15000/15000 [==============================] - 228s 15ms/step - loss: 0.5072 - val_loss: 0.4736\n",
            "Epoch 15/25\n",
            "15000/15000 [==============================] - 232s 15ms/step - loss: 0.4944 - val_loss: 0.4654\n",
            "Epoch 16/25\n",
            "15000/15000 [==============================] - 227s 15ms/step - loss: 0.4819 - val_loss: 0.4467\n",
            "Epoch 17/25\n",
            "15000/15000 [==============================] - 222s 15ms/step - loss: 0.4707 - val_loss: 0.4391\n",
            "Epoch 18/25\n",
            "15000/15000 [==============================] - 218s 15ms/step - loss: 0.4592 - val_loss: 0.4341\n",
            "Epoch 19/25\n",
            "15000/15000 [==============================] - 217s 14ms/step - loss: 0.4478 - val_loss: 0.4255\n",
            "Epoch 20/25\n",
            "15000/15000 [==============================] - 232s 15ms/step - loss: 0.4385 - val_loss: 0.4190\n",
            "Epoch 21/25\n",
            "15000/15000 [==============================] - 224s 15ms/step - loss: 0.4310 - val_loss: 0.4151\n",
            "Epoch 22/25\n",
            "15000/15000 [==============================] - 221s 15ms/step - loss: 0.4218 - val_loss: 0.4144\n",
            "Epoch 23/25\n",
            "15000/15000 [==============================] - 214s 14ms/step - loss: 0.4129 - val_loss: 0.4054\n",
            "Epoch 24/25\n",
            "15000/15000 [==============================] - 213s 14ms/step - loss: 0.4049 - val_loss: 0.4043\n",
            "Epoch 25/25\n",
            "15000/15000 [==============================] - 213s 14ms/step - loss: 0.3976 - val_loss: 0.4040\n"
          ],
          "name": "stdout"
        }
      ]
    },
    {
      "cell_type": "markdown",
      "metadata": {
        "id": "6iGZgvJO6Rwo",
        "colab_type": "text"
      },
      "source": [
        "make predictions\n"
      ]
    },
    {
      "cell_type": "code",
      "metadata": {
        "id": "A6HdBhZX5gmc",
        "colab_type": "code",
        "colab": {}
      },
      "source": [
        "# Reverse-lookup token index to decode sequences back to something readable.\n",
        "reverse_input_char_index1 = dict((i, char) for char, i in input_token_index1.items())\n",
        "reverse_target_char_index1 = dict((i, char) for char, i in target_token_index1.items())"
      ],
      "execution_count": 0,
      "outputs": []
    },
    {
      "cell_type": "code",
      "metadata": {
        "id": "tI6IUL5i6JEc",
        "colab_type": "code",
        "colab": {}
      },
      "source": [
        "def decode_sequence(input_seq):\n",
        "    states_value = encoder_model_bi.predict(input_seq)\n",
        "\n",
        "    target_seq = numpy.zeros((1, 1, num_decoder_tokens1))\n",
        "    target_seq[0, 0, target_token_index1['\\t']] = 1.\n",
        "\n",
        "    stop_condition = False\n",
        "    decoded_sentence = ''\n",
        "    while not stop_condition:\n",
        "        output_tokens, h, c = decoder_model_bi.predict([target_seq] + states_value)\n",
        "\n",
        "        # this line of code is greedy selection\n",
        "        # try to use multinomial sampling instead (with temperature)\n",
        "        sampled_token_index = numpy.argmax(output_tokens[0, -1, :])\n",
        "        \n",
        "        sampled_char = reverse_target_char_index1[sampled_token_index]\n",
        "        decoded_sentence += sampled_char\n",
        "\n",
        "        if (sampled_char == '\\n' or\n",
        "           len(decoded_sentence) > max_decoder_seq_length1):\n",
        "            stop_condition = True\n",
        "\n",
        "        target_seq = numpy.zeros((1, 1, num_decoder_tokens1))\n",
        "        target_seq[0, 0, sampled_token_index] = 1.\n",
        "\n",
        "        states_value = [h, c]\n",
        "\n",
        "    return decoded_sentence"
      ],
      "execution_count": 0,
      "outputs": []
    },
    {
      "cell_type": "code",
      "metadata": {
        "id": "Ra96LYQE8wLD",
        "colab_type": "code",
        "colab": {
          "base_uri": "https://localhost:8080/",
          "height": 697
        },
        "outputId": "88a756d8-1884-4cd4-8abf-e2d99828841d"
      },
      "source": [
        "for seq_index in range(2100, 2110):\n",
        "    # Take one sequence (part of the training set)\n",
        "    # for trying out decoding.\n",
        "    input_seq = encoder_input_data_training[seq_index: seq_index + 1]\n",
        "    decoded_sentence = decode_sequence(input_seq)\n",
        "    print('-')\n",
        "    print('English:       ', input_texts1[seq_index])\n",
        "    print('Spanish (true): ', target_texts1[seq_index][1:-1])\n",
        "    print('Spanish (pred): ', decoded_sentence[0:-1])"
      ],
      "execution_count": 109,
      "outputs": [
        {
          "output_type": "stream",
          "text": [
            "-\n",
            "English:        toms answers were wrong\n",
            "Spanish (true):  las respuestas de tom eran erroneas\n",
            "Spanish (pred):  el trabajo es de en casa\n",
            "-\n",
            "English:        i won an award as well\n",
            "Spanish (true):  yo tambien recibi un premio\n",
            "Spanish (pred):  estaba en presionero en la casa\n",
            "-\n",
            "English:        its your turn next\n",
            "Spanish (true):  despues viene tu turno\n",
            "Spanish (pred):  es tu nombre estaba ocupado\n",
            "-\n",
            "English:        i never said anything\n",
            "Spanish (true):  nunca dije nada\n",
            "Spanish (pred):  nunca ha estado en el trabajo\n",
            "-\n",
            "English:        what have you heard tom\n",
            "Spanish (true):  que has escuchado tom\n",
            "Spanish (pred):  que estas en casa\n",
            "-\n",
            "English:        youre under arrest\n",
            "Spanish (true):  quedas detenido\n",
            "Spanish (pred):  eres muy ingeligente\n",
            "-\n",
            "English:        tom and i help each other\n",
            "Spanish (true):  tom y yo nos ayudamos mutuamente\n",
            "Spanish (pred):  tom y yo estara en pariera\n",
            "-\n",
            "English:        my aunt had three children\n",
            "Spanish (true):  mi tia tenia tres hijos\n",
            "Spanish (pred):  mi hizo es de esta entrega\n",
            "-\n",
            "English:        i rewrote my report\n",
            "Spanish (true):  volvi a escribir mi informe\n",
            "Spanish (pred):  me me acabo de mi casa\n",
            "-\n",
            "English:        dont take it personally\n",
            "Spanish (true):  no es nada personal\n",
            "Spanish (pred):  no te enfrientes son rapido\n"
          ],
          "name": "stdout"
        }
      ]
    },
    {
      "cell_type": "markdown",
      "metadata": {
        "id": "BkuYhdZyBJTV",
        "colab_type": "text"
      },
      "source": [
        "calculate bleu score"
      ]
    },
    {
      "cell_type": "code",
      "metadata": {
        "id": "XuNgphe6JN0K",
        "colab_type": "code",
        "colab": {}
      },
      "source": [
        "# load datasets\n",
        "\n",
        "train = clean_pairs_f[0:15000, 0:2]\n",
        "test = clean_pairs_f[15000:, 0:2]\n",
        "# prepare english tokenizer\n",
        "eng_tokenizer = english_tokenizer\n",
        "eng_vocab_size = num_encoder_tokens1\n",
        "eng_length = max_encoder_seq_length1\n",
        "# prepare german tokenizer\n",
        "spa_tokenizer = spanish_tokenizer\n",
        "spa_vocab_size = num_decoder_tokens1\n",
        "spa_length = max_encoder_seq_length1\n",
        "# prepare data\n",
        "trainX = [encoder_input_data_training, decoder_input_data_training]\n",
        "testX = [encoder_input_data_test, decoder_input_data_test]\n",
        "\n",
        "\n",
        "# print(trainX)\n",
        "# print(trainX.shape)"
      ],
      "execution_count": 0,
      "outputs": []
    },
    {
      "cell_type": "code",
      "metadata": {
        "id": "jZMkVxV6BEqs",
        "colab_type": "code",
        "colab": {}
      },
      "source": [
        "from numpy import array\n",
        "from numpy import argmax\n",
        "from keras.preprocessing.text import Tokenizer\n",
        "from keras.preprocessing.sequence import pad_sequences\n",
        "from keras.models import load_model\n",
        "from nltk.translate.bleu_score import corpus_bleu\n",
        "\n",
        "def pred_str(source):\n",
        "  pred_str_list = list()\n",
        "  for seq_index in range(0, len(source)):\n",
        "  # for seq_index in range(0, 4):\n",
        "      # Take one sequence (part of the training set)\n",
        "      # for trying out decoding.      \n",
        "      input_seq = source[seq_index: seq_index + 1]\n",
        "      decoded_sentence = decode_sequence(input_seq)[0:-1]\n",
        "      # print(decoded_sentence)\n",
        "      pred_str_list.append(decoded_sentence)\n",
        "  return pred_str_list\n",
        "\n",
        "\n",
        "\n",
        " \n"
      ],
      "execution_count": 0,
      "outputs": []
    },
    {
      "cell_type": "code",
      "metadata": {
        "id": "gTpiBDfiDtu8",
        "colab_type": "code",
        "colab": {
          "base_uri": "https://localhost:8080/",
          "height": 54
        },
        "outputId": "a9198a06-0981-4d51-b29b-33f651812ec0"
      },
      "source": [
        "input_seq_training = pred_str(encoder_input_data_training)\n",
        "print(input_seq_training[1:10])"
      ],
      "execution_count": 119,
      "outputs": [
        {
          "output_type": "stream",
          "text": [
            "['ella le agare el carro', 'tom encino a la camisa', 'escuchamos el carro', 'quiero verlo', 'yo tengo un gran erabajo', 'tom se esta a dermiendo', 'estoy encontrado una cara a la casa', 'tom se quedo la camida', 'no me alguno de esto']\n"
          ],
          "name": "stdout"
        }
      ]
    },
    {
      "cell_type": "code",
      "metadata": {
        "id": "tHUcqO4Ew0v4",
        "colab_type": "code",
        "colab": {
          "base_uri": "https://localhost:8080/",
          "height": 34
        },
        "outputId": "dc622cd6-6684-439b-b453-b062fe52dd4d"
      },
      "source": [
        "print(len(input_seq_training))"
      ],
      "execution_count": 120,
      "outputs": [
        {
          "output_type": "stream",
          "text": [
            "15000\n"
          ],
          "name": "stdout"
        }
      ]
    },
    {
      "cell_type": "code",
      "metadata": {
        "id": "EbKChVWUCTZ_",
        "colab_type": "code",
        "colab": {
          "base_uri": "https://localhost:8080/",
          "height": 54
        },
        "outputId": "dc49f422-a3ab-48e7-d0f9-8e6c19e82973"
      },
      "source": [
        "\n",
        "input_seq_test = pred_str(encoder_input_data_test)\n",
        "print(input_seq_test[1:10])\n",
        "\n"
      ],
      "execution_count": 116,
      "outputs": [
        {
          "output_type": "stream",
          "text": [
            "['quiero estar en cosa', 'tengo que decir eso', 'sabemos que tomas estuvieras', 'vi a un arigo', 'todas los gratos', 'eso es muy bien', 'quieres argo de acuerdo', 'ella es muy bien', 'ponte el trabajo']\n"
          ],
          "name": "stdout"
        }
      ]
    },
    {
      "cell_type": "code",
      "metadata": {
        "id": "B-KS2uHLEPlz",
        "colab_type": "code",
        "colab": {
          "base_uri": "https://localhost:8080/",
          "height": 34
        },
        "outputId": "655adb1c-b7c1-4ac5-ba48-8c27ed0756b4"
      },
      "source": [
        "print(len(input_seq_test))"
      ],
      "execution_count": 45,
      "outputs": [
        {
          "output_type": "execute_result",
          "data": {
            "text/plain": [
              "5000"
            ]
          },
          "metadata": {
            "tags": []
          },
          "execution_count": 45
        }
      ]
    },
    {
      "cell_type": "code",
      "metadata": {
        "id": "0GdvYhGrBVOr",
        "colab_type": "code",
        "colab": {}
      },
      "source": [
        "# function to calculate bleu score\n",
        "def evaluate_model(input_seq, raw_dataset):\n",
        "  actual,predicted = list(), list()\n",
        "  for i in range(0, len(input_seq)):\n",
        "    translation = input_seq[i]\n",
        "    raw_src, raw_target = raw_dataset[i]\n",
        "    if i < 10:\n",
        "      print('src=[%s], target=[%s], predicted=[%s]' % (raw_src, raw_target, translation))\n",
        "    actual.append([raw_target.split()])\n",
        "    predicted.append(translation.split())\n",
        "  # calculate BLEU score\n",
        "  # this is 1-gram\n",
        "  print('BLEU-1: %f' % corpus_bleu(actual, predicted, weights=(1.0, 0, 0, 0)))\n",
        "  # this is n-gram (n>=2)\n",
        "  print('BLEU-2: %f' % corpus_bleu(actual, predicted, weights=(0.5, 0.5, 0, 0)))\n",
        "  print('BLEU-3: %f' % corpus_bleu(actual, predicted, weights=(0.3, 0.3, 0.3, 0)))\n",
        "  print('BLEU-4: %f' % corpus_bleu(actual, predicted, weights=(0.25, 0.25, 0.25, 0.25)))\n"
      ],
      "execution_count": 0,
      "outputs": []
    },
    {
      "cell_type": "code",
      "metadata": {
        "id": "I3ndTS5qMI0S",
        "colab_type": "code",
        "colab": {
          "base_uri": "https://localhost:8080/",
          "height": 255
        },
        "outputId": "7639c5ca-7cb0-4d3f-e505-d01192ec1ba8"
      },
      "source": [
        "# calculate bleu score for training\n",
        "\n",
        "evaluate_model(input_seq_training, train)"
      ],
      "execution_count": 121,
      "outputs": [
        {
          "output_type": "stream",
          "text": [
            "src=[the lake is frozen], target=[el lago esta helado], predicted=[el tiene es algo]\n",
            "src=[she sleeps on her back], target=[ella duerme de costado], predicted=[ella le agare el carro]\n",
            "src=[tom started flipping out], target=[tom empezo a perder los papeles], predicted=[tom encino a la camisa]\n",
            "src=[we rented the apartment], target=[alquilamos el departamento], predicted=[escuchamos el carro]\n",
            "src=[i want to hire you], target=[te quiero contratar], predicted=[quiero verlo]\n",
            "src=[i made a deal with tom], target=[hice un trato con tom], predicted=[yo tengo un gran erabajo]\n",
            "src=[tom eventually confessed], target=[tom finalmente confeso], predicted=[tom se esta a dermiendo]\n",
            "src=[im waiting for a phone call], target=[estoy esperando una llamada], predicted=[estoy encontrado una cara a la casa]\n",
            "src=[tom cut his finger], target=[tomas se corto el dedo], predicted=[tom se quedo la camida]\n",
            "src=[i dont feel up to it], target=[no me siento capaz de hacerlo], predicted=[no me alguno de esto]\n",
            "BLEU-1: 0.282550\n",
            "BLEU-2: 0.175498\n",
            "BLEU-3: 0.129863\n",
            "BLEU-4: 0.057755\n"
          ],
          "name": "stdout"
        }
      ]
    },
    {
      "cell_type": "code",
      "metadata": {
        "id": "oQzbuxODEDi1",
        "colab_type": "code",
        "colab": {
          "base_uri": "https://localhost:8080/",
          "height": 255
        },
        "outputId": "210377bc-2d3f-4c26-e5bc-aea2aaf6d965"
      },
      "source": [
        "# calculate bleu score for test\n",
        "\n",
        "evaluate_model(input_seq_test, test)"
      ],
      "execution_count": 118,
      "outputs": [
        {
          "output_type": "stream",
          "text": [
            "src=[i dont know who to turn to], target=[no se a quien acudir], predicted=[no se que no habe eso]\n",
            "src=[i want to go fishing], target=[quiero ir a pescar], predicted=[quiero estar en cosa]\n",
            "src=[ive come here to help you], target=[he venido aqui a ayudarte], predicted=[tengo que decir eso]\n",
            "src=[we know what you did], target=[sabemos lo que hiciste], predicted=[sabemos que tomas estuvieras]\n",
            "src=[i saw a sleeping dog], target=[vi a un perro durmiendo], predicted=[vi a un arigo]\n",
            "src=[make way please], target=[abran paso por favor], predicted=[todas los gratos]\n",
            "src=[thatll work], target=[eso funcionara], predicted=[eso es muy bien]\n",
            "src=[would you like to be famous], target=[te gustaria ser famosa], predicted=[quieres argo de acuerdo]\n",
            "src=[she is cooking for him], target=[ella esta cocinando para el], predicted=[ella es muy bien]\n",
            "src=[put on your cap], target=[ponte el sombrero], predicted=[ponte el trabajo]\n",
            "BLEU-1: 0.264672\n",
            "BLEU-2: 0.155016\n",
            "BLEU-3: 0.113151\n",
            "BLEU-4: 0.049260\n"
          ],
          "name": "stdout"
        }
      ]
    },
    {
      "cell_type": "code",
      "metadata": {
        "id": "3qazYQrGHutQ",
        "colab_type": "code",
        "colab": {}
      },
      "source": [
        ""
      ],
      "execution_count": 0,
      "outputs": []
    },
    {
      "cell_type": "code",
      "metadata": {
        "id": "2SFZ2h0GfQhd",
        "colab_type": "code",
        "colab": {}
      },
      "source": [
        ""
      ],
      "execution_count": 0,
      "outputs": []
    },
    {
      "cell_type": "code",
      "metadata": {
        "id": "RCyxNF_ecSxQ",
        "colab_type": "code",
        "colab": {}
      },
      "source": [
        ""
      ],
      "execution_count": 0,
      "outputs": []
    },
    {
      "cell_type": "code",
      "metadata": {
        "id": "ZRaGR900Wp_q",
        "colab_type": "code",
        "colab": {}
      },
      "source": [
        ""
      ],
      "execution_count": 0,
      "outputs": []
    }
  ]
}