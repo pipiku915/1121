{
 "cells": [
  {
   "cell_type": "code",
   "execution_count": 1,
   "metadata": {
    "_cell_guid": "b1076dfc-b9ad-4769-8c92-a6c4dae69d19",
    "_uuid": "8f2839f25d086af736a60e9eeb907d3b93b6e0e5"
   },
   "outputs": [
    {
     "name": "stdout",
     "output_type": "stream",
     "text": [
      "/kaggle/input/Kannada-MNIST/test.csv\n",
      "/kaggle/input/Kannada-MNIST/train.csv\n",
      "/kaggle/input/Kannada-MNIST/Dig-MNIST.csv\n",
      "/kaggle/input/Kannada-MNIST/sample_submission.csv\n"
     ]
    }
   ],
   "source": [
    "# This Python 3 environment comes with many helpful analytics libraries installed\n",
    "# It is defined by the kaggle/python docker image: https://github.com/kaggle/docker-python\n",
    "# For example, here's several helpful packages to load in \n",
    "\n",
    "import numpy as np # linear algebra\n",
    "import pandas as pd # data processing, CSV file I/O (e.g. pd.read_csv)\n",
    "\n",
    "# Input data files are available in the \"../input/\" directory.\n",
    "# For example, running this (by clicking run or pressing Shift+Enter) will list all files under the input directory\n",
    "\n",
    "import os\n",
    "for dirname, _, filenames in os.walk('/kaggle/input'):\n",
    "    for filename in filenames:\n",
    "        print(os.path.join(dirname, filename))\n",
    "\n",
    "# Any results you write to the current directory are saved as output."
   ]
  },
  {
   "cell_type": "code",
   "execution_count": 2,
   "metadata": {
    "_cell_guid": "79c7e3d0-c299-4dcb-8224-4455121ee9b0",
    "_uuid": "d629ff2d2480ee46fbb7e2d37f6b5fab8052498a"
   },
   "outputs": [
    {
     "name": "stderr",
     "output_type": "stream",
     "text": [
      "Using TensorFlow backend.\n"
     ]
    }
   ],
   "source": [
    "\n",
    "import tensorflow as tf \n",
    "import numpy as np \n",
    "import pandas as pd \n",
    "import matplotlib.pyplot as plt \n",
    "import random \n",
    "\n",
    "from keras.models import Model, Sequential, load_model\n",
    "from keras.layers import Conv2D, MaxPooling2D, Input, Dense, Dropout, Flatten, ReLU\n",
    "from keras.losses import categorical_crossentropy\n",
    "from keras.layers.normalization import BatchNormalization\n",
    "from keras.layers.advanced_activations import LeakyReLU\n",
    "from keras.optimizers import Adam, RMSprop\n",
    "from keras.utils import to_categorical\n",
    "\n",
    "from sklearn.model_selection import train_test_split"
   ]
  },
  {
   "cell_type": "code",
   "execution_count": 3,
   "metadata": {},
   "outputs": [
    {
     "name": "stdout",
     "output_type": "stream",
     "text": [
      "Length of input_texts:  (60000, 784)\n",
      "Length of target_texts: (60000,)\n",
      "Length of input_texts:  (60000, 28, 28, 1)\n",
      "the shape of training data  (48000, 28, 28, 1)\n",
      "the shape of training label  (48000,)\n",
      "the shape of dev data  (12000, 28, 28, 1)\n",
      "the shape of dev label (12000,)\n",
      " number of diffrent outputs  10\n",
      " different classes of outputs  [0 1 2 3 4 5 6 7 8 9]\n"
     ]
    }
   ],
   "source": [
    "\n",
    "df = pd.read_csv('/kaggle/input/Kannada-MNIST/train.csv')\n",
    "x_train = np.array(df.iloc[:,1:])\n",
    "y_train = np.array(df.iloc[:,0])\n",
    "\n",
    "print('Length of input_texts:  ' + str(x_train.shape))\n",
    "print('Length of target_texts: ' + str(y_train.shape))\n",
    "\n",
    "x_train = np.reshape(x_train, (-1, 28, 28, 1))\n",
    "print('Length of input_texts:  ' + str(x_train.shape))\n",
    "\n",
    "def create_dev_set(x_train, y_train):\n",
    "    #split the whole dataset to the training set and development set(validation set)\n",
    "    return train_test_split(x_train, y_train, test_size=0.2, random_state=0)\n",
    "\n",
    "x_train, x_dev, y_train, y_dev = create_dev_set(x_train, y_train)\n",
    "print(\"the shape of training data \", x_train.shape)\n",
    "print(\"the shape of training label \", y_train.shape)\n",
    "print(\"the shape of dev data \", x_dev.shape)\n",
    "print(\"the shape of dev label\", y_dev.shape)\n",
    "\n",
    "classes = np.unique(y_train)\n",
    "num_classes = len(classes)\n",
    "print(\" number of diffrent outputs \", num_classes)\n",
    "print(\" different classes of outputs \", classes)\n",
    "\n",
    "x_train = x_train.astype('float32')\n",
    "x_dev = x_dev.astype('float32')\n",
    "x_train = x_train / 255\n",
    "x_dev = x_dev / 255\n",
    "\n",
    "y_train_one_hot = np.array(to_categorical(y_train))\n",
    "y_dev_one_hot = np.array(to_categorical(y_dev))"
   ]
  },
  {
   "cell_type": "code",
   "execution_count": 4,
   "metadata": {},
   "outputs": [],
   "source": [
    "from keras import optimizers\n",
    "from keras.layers import Conv2D, MaxPooling2D, Flatten, Dense,BatchNormalization,Activation,Dropout"
   ]
  },
  {
   "cell_type": "code",
   "execution_count": 5,
   "metadata": {},
   "outputs": [],
   "source": [
    "nets = 20\n",
    "model = [0] *nets\n",
    "for j in range(20):\n",
    "  model[j] = Sequential()\n",
    "\n",
    "  model[j].add(Conv2D(32,kernel_size=3,input_shape=(28,28,1)))\n",
    "  model[j].add(BatchNormalization())\n",
    "  model[j].add(Activation('relu'))\n",
    "  model[j].add(Conv2D(32,kernel_size=3))\n",
    "  model[j].add(BatchNormalization())\n",
    "  model[j].add(Activation('relu'))\n",
    "  model[j].add(Conv2D(32,kernel_size=5,strides=2,padding='same'))\n",
    "  model[j].add(BatchNormalization())\n",
    "  model[j].add(Activation('relu'))\n",
    "  model[j].add(Dropout(0.2))\n",
    "\n",
    "  model[j].add(Conv2D(64,kernel_size=3))\n",
    "  model[j].add(BatchNormalization())\n",
    "  model[j].add(Activation('relu'))\n",
    "  model[j].add(Conv2D(64,kernel_size=3))\n",
    "  model[j].add(BatchNormalization())\n",
    "  model[j].add(Activation('relu'))\n",
    "  model[j].add(Conv2D(64,kernel_size=5,strides=2,padding='same'))\n",
    "  model[j].add(BatchNormalization())\n",
    "  model[j].add(Activation('relu'))\n",
    "  model[j].add(Dropout(0.2))\n",
    "\n",
    "  model[j].add(Flatten())\n",
    "  model[j].add(Dense(512))\n",
    "  model[j].add(BatchNormalization())\n",
    "  model[j].add(Activation('relu'))\n",
    "#   model[j].add(Dropout(0.2))\n",
    "  model[j].add(Dense(10, activation='softmax'))\n",
    "#   model[j].compile(optimizer=\"adam\", loss=\"categorical_crossentropy\", metrics=[\"accuracy\"])\n",
    "  model[j].compile( optimizer=optimizers.RMSprop(lr=1E-4), loss=\"categorical_crossentropy\", metrics=[\"accuracy\"])"
   ]
  },
  {
   "cell_type": "code",
   "execution_count": 6,
   "metadata": {},
   "outputs": [
    {
     "name": "stdout",
     "output_type": "stream",
     "text": [
      "Model: \"sequential_20\"\n",
      "_________________________________________________________________\n",
      "Layer (type)                 Output Shape              Param #   \n",
      "=================================================================\n",
      "conv2d_115 (Conv2D)          (None, 26, 26, 32)        320       \n",
      "_________________________________________________________________\n",
      "batch_normalization_134 (Bat (None, 26, 26, 32)        128       \n",
      "_________________________________________________________________\n",
      "activation_134 (Activation)  (None, 26, 26, 32)        0         \n",
      "_________________________________________________________________\n",
      "conv2d_116 (Conv2D)          (None, 24, 24, 32)        9248      \n",
      "_________________________________________________________________\n",
      "batch_normalization_135 (Bat (None, 24, 24, 32)        128       \n",
      "_________________________________________________________________\n",
      "activation_135 (Activation)  (None, 24, 24, 32)        0         \n",
      "_________________________________________________________________\n",
      "conv2d_117 (Conv2D)          (None, 12, 12, 32)        25632     \n",
      "_________________________________________________________________\n",
      "batch_normalization_136 (Bat (None, 12, 12, 32)        128       \n",
      "_________________________________________________________________\n",
      "activation_136 (Activation)  (None, 12, 12, 32)        0         \n",
      "_________________________________________________________________\n",
      "dropout_39 (Dropout)         (None, 12, 12, 32)        0         \n",
      "_________________________________________________________________\n",
      "conv2d_118 (Conv2D)          (None, 10, 10, 64)        18496     \n",
      "_________________________________________________________________\n",
      "batch_normalization_137 (Bat (None, 10, 10, 64)        256       \n",
      "_________________________________________________________________\n",
      "activation_137 (Activation)  (None, 10, 10, 64)        0         \n",
      "_________________________________________________________________\n",
      "conv2d_119 (Conv2D)          (None, 8, 8, 64)          36928     \n",
      "_________________________________________________________________\n",
      "batch_normalization_138 (Bat (None, 8, 8, 64)          256       \n",
      "_________________________________________________________________\n",
      "activation_138 (Activation)  (None, 8, 8, 64)          0         \n",
      "_________________________________________________________________\n",
      "conv2d_120 (Conv2D)          (None, 4, 4, 64)          102464    \n",
      "_________________________________________________________________\n",
      "batch_normalization_139 (Bat (None, 4, 4, 64)          256       \n",
      "_________________________________________________________________\n",
      "activation_139 (Activation)  (None, 4, 4, 64)          0         \n",
      "_________________________________________________________________\n",
      "dropout_40 (Dropout)         (None, 4, 4, 64)          0         \n",
      "_________________________________________________________________\n",
      "flatten_20 (Flatten)         (None, 1024)              0         \n",
      "_________________________________________________________________\n",
      "dense_39 (Dense)             (None, 512)               524800    \n",
      "_________________________________________________________________\n",
      "batch_normalization_140 (Bat (None, 512)               2048      \n",
      "_________________________________________________________________\n",
      "activation_140 (Activation)  (None, 512)               0         \n",
      "_________________________________________________________________\n",
      "dense_40 (Dense)             (None, 10)                5130      \n",
      "=================================================================\n",
      "Total params: 726,218\n",
      "Trainable params: 724,618\n",
      "Non-trainable params: 1,600\n",
      "_________________________________________________________________\n"
     ]
    }
   ],
   "source": [
    "model[19].summary()"
   ]
  },
  {
   "cell_type": "code",
   "execution_count": 7,
   "metadata": {},
   "outputs": [],
   "source": [
    "from keras.callbacks import LearningRateScheduler\n",
    "from keras.preprocessing.image import ImageDataGenerator"
   ]
  },
  {
   "cell_type": "code",
   "execution_count": 8,
   "metadata": {},
   "outputs": [],
   "source": [
    "datagen = ImageDataGenerator(\n",
    "        rotation_range=10,  \n",
    "        zoom_range = 0.10,  \n",
    "        width_shift_range=0.1, \n",
    "        height_shift_range=0.1)"
   ]
  },
  {
   "cell_type": "code",
   "execution_count": 9,
   "metadata": {},
   "outputs": [
    {
     "name": "stdout",
     "output_type": "stream",
     "text": [
      "Epoch 1/50\n",
      "750/750 [==============================] - 50s 66ms/step - loss: 0.1068 - accuracy: 0.9661 - val_loss: 0.0310 - val_accuracy: 0.9920\n",
      "Epoch 2/50\n",
      "750/750 [==============================] - 45s 60ms/step - loss: 0.0365 - accuracy: 0.9887 - val_loss: 0.0338 - val_accuracy: 0.9904\n",
      "Epoch 3/50\n",
      "750/750 [==============================] - 45s 60ms/step - loss: 0.0275 - accuracy: 0.9917 - val_loss: 0.0238 - val_accuracy: 0.9930\n",
      "Epoch 4/50\n",
      "750/750 [==============================] - 44s 59ms/step - loss: 0.0235 - accuracy: 0.9931 - val_loss: 0.0278 - val_accuracy: 0.9928\n",
      "Epoch 5/50\n",
      "750/750 [==============================] - 44s 59ms/step - loss: 0.0213 - accuracy: 0.9935 - val_loss: 0.0228 - val_accuracy: 0.9947\n",
      "Epoch 6/50\n",
      "750/750 [==============================] - 46s 61ms/step - loss: 0.0192 - accuracy: 0.9945 - val_loss: 0.0126 - val_accuracy: 0.9968\n",
      "Epoch 7/50\n",
      "750/750 [==============================] - 45s 59ms/step - loss: 0.0172 - accuracy: 0.9946 - val_loss: 0.0135 - val_accuracy: 0.9969\n",
      "Epoch 8/50\n",
      "750/750 [==============================] - 45s 59ms/step - loss: 0.0170 - accuracy: 0.9950 - val_loss: 0.0125 - val_accuracy: 0.9968\n",
      "Epoch 9/50\n",
      "750/750 [==============================] - 44s 59ms/step - loss: 0.0142 - accuracy: 0.9957 - val_loss: 0.0181 - val_accuracy: 0.9962\n",
      "Epoch 10/50\n",
      "750/750 [==============================] - 43s 58ms/step - loss: 0.0139 - accuracy: 0.9958 - val_loss: 0.0137 - val_accuracy: 0.9969\n",
      "Epoch 12/50\n",
      "750/750 [==============================] - 43s 57ms/step - loss: 0.0129 - accuracy: 0.9962 - val_loss: 0.0138 - val_accuracy: 0.9973\n",
      "Epoch 13/50\n",
      "750/750 [==============================] - 44s 59ms/step - loss: 0.0113 - accuracy: 0.9966 - val_loss: 0.0100 - val_accuracy: 0.9975\n",
      "Epoch 14/50\n",
      "750/750 [==============================] - 43s 57ms/step - loss: 0.0103 - accuracy: 0.9968 - val_loss: 0.0120 - val_accuracy: 0.9975\n",
      "Epoch 15/50\n",
      "750/750 [==============================] - 43s 57ms/step - loss: 0.0112 - accuracy: 0.9968 - val_loss: 0.0128 - val_accuracy: 0.9966\n",
      "Epoch 16/50\n",
      "750/750 [==============================] - 43s 58ms/step - loss: 0.0107 - accuracy: 0.9969 - val_loss: 0.0147 - val_accuracy: 0.9972\n",
      "Epoch 17/50\n",
      "750/750 [==============================] - 43s 57ms/step - loss: 0.0099 - accuracy: 0.9971 - val_loss: 0.0130 - val_accuracy: 0.9976\n",
      "Epoch 18/50\n",
      "750/750 [==============================] - 43s 57ms/step - loss: 0.0094 - accuracy: 0.9972 - val_loss: 0.0112 - val_accuracy: 0.9977\n",
      "Epoch 19/50\n",
      "750/750 [==============================] - 43s 58ms/step - loss: 0.0097 - accuracy: 0.9972 - val_loss: 0.0127 - val_accuracy: 0.9973\n",
      "Epoch 20/50\n",
      "750/750 [==============================] - 44s 59ms/step - loss: 0.0087 - accuracy: 0.9973 - val_loss: 0.0122 - val_accuracy: 0.9977\n",
      "Epoch 21/50\n",
      "750/750 [==============================] - 42s 56ms/step - loss: 0.0089 - accuracy: 0.9977 - val_loss: 0.0136 - val_accuracy: 0.9974\n",
      "Epoch 22/50\n",
      "474/750 [=================>............] - ETA: 15s - loss: 0.0075 - accuracy: 0.9977"
     ]
    }
   ],
   "source": [
    "annealer = LearningRateScheduler(lambda x: 1e-2 * 0.95 ** (x+ 50))\n",
    "training = model[19].fit_generator(datagen.flow(x_train,y_train_one_hot, batch_size=128), epochs = 50, \n",
    "    steps_per_epoch = x_train.shape[0]//64, callbacks=[annealer], verbose=1, validation_data=(x_dev, y_dev_one_hot))"
   ]
  },
  {
   "cell_type": "code",
   "execution_count": 10,
   "metadata": {},
   "outputs": [
    {
     "name": "stdout",
     "output_type": "stream",
     "text": [
      "12000/12000 [==============================] - 2s 183us/step\n",
      "[0.013076756869913515, 0.9977499842643738]\n"
     ]
    }
   ],
   "source": [
    "\n",
    "model[19].save(\"Conv2D_trail3.h5py\")\n",
    "\n",
    "test_eval = model[19].evaluate(x_dev, y_dev_one_hot, verbose=1)\n",
    "print(test_eval)"
   ]
  },
  {
   "cell_type": "code",
   "execution_count": 11,
   "metadata": {},
   "outputs": [],
   "source": [
    "accuracy = training.history['accuracy']\n",
    "val_accuracy = training.history['val_accuracy']\n",
    "loss = training.history['loss']\n",
    "val_loss = training.history['val_loss']\n",
    "\n",
    "epochs = range(len(accuracy))"
   ]
  },
  {
   "cell_type": "code",
   "execution_count": 12,
   "metadata": {},
   "outputs": [
    {
     "data": {
      "image/png": "[encoded data removed]",
      "text/plain": [
       "<Figure size 432x288 with 1 Axes>"
      ]
     },
     "metadata": {
      "needs_background": "light"
     },
     "output_type": "display_data"
    },
    {
     "data": {
      "image/png": "[encoded data removed]",
      "text/plain": [
       "<Figure size 432x288 with 1 Axes>"
      ]
     },
     "metadata": {
      "needs_background": "light"
     },
     "output_type": "display_data"
    },
    {
     "data": {
      "text/html": [
       "<a href='Conv2D_trail3.h5py' target='_blank'>Conv2D_trail3.h5py</a><br>"
      ],
      "text/plain": [
       "/kaggle/working/Conv2D_trail3.h5py"
      ]
     },
     "execution_count": 12,
     "metadata": {},
     "output_type": "execute_result"
    }
   ],
   "source": [
    "\n",
    "plt.plot(epochs, accuracy, 'bo', label='Training accuracy')\n",
    "plt.plot(epochs, val_accuracy, 'b', label='Validation accuracy')\n",
    "plt.title(\"Training and validation accuracy\")\n",
    "plt.legend()\n",
    "plt.figure()\n",
    "plt.plot(epochs, loss, 'bo', label='Training loss')\n",
    "plt.plot(epochs, val_loss, 'b', label='Validation loss')\n",
    "plt.title('Training and validation loss')\n",
    "plt.legend()\n",
    "plt.show()\n",
    "from IPython.display import FileLink\n",
    "FileLink(r\"Conv2D_trail3.h5py\")"
   ]
  },
  {
   "cell_type": "code",
   "execution_count": 13,
   "metadata": {},
   "outputs": [
    {
     "name": "stdout",
     "output_type": "stream",
     "text": [
      "Training dataset evaluation\n"
     ]
    },
    {
     "ename": "AttributeError",
     "evalue": "'list' object has no attribute 'evaluate'",
     "output_type": "error",
     "traceback": [
      "\u001b[0;31m---------------------------------------------------------------------------\u001b[0m",
      "\u001b[0;31mAttributeError\u001b[0m                            Traceback (most recent call last)",
      "\u001b[0;32m<ipython-input-13-d2407d5884e7>\u001b[0m in \u001b[0;36m<module>\u001b[0;34m\u001b[0m\n\u001b[1;32m      1\u001b[0m \u001b[0mprint\u001b[0m\u001b[0;34m(\u001b[0m\u001b[0;34m\"Training dataset evaluation\"\u001b[0m\u001b[0;34m)\u001b[0m\u001b[0;34m\u001b[0m\u001b[0m\n\u001b[0;32m----> 2\u001b[0;31m \u001b[0mtest_eval\u001b[0m \u001b[0;34m=\u001b[0m \u001b[0mmodel\u001b[0m\u001b[0;34m.\u001b[0m\u001b[0mevaluate\u001b[0m\u001b[0;34m(\u001b[0m\u001b[0mx_train\u001b[0m\u001b[0;34m,\u001b[0m \u001b[0my_train_one_hot\u001b[0m\u001b[0;34m,\u001b[0m \u001b[0mverbose\u001b[0m\u001b[0;34m=\u001b[0m\u001b[0;36m1\u001b[0m\u001b[0;34m)\u001b[0m\u001b[0;34m\u001b[0m\u001b[0m\n\u001b[0m\u001b[1;32m      3\u001b[0m \u001b[0mprint\u001b[0m\u001b[0;34m(\u001b[0m\u001b[0mtest_eval\u001b[0m\u001b[0;34m)\u001b[0m\u001b[0;34m\u001b[0m\u001b[0m\n\u001b[1;32m      4\u001b[0m \u001b[0;34m\u001b[0m\u001b[0m\n\u001b[1;32m      5\u001b[0m \u001b[0mprint\u001b[0m\u001b[0;34m(\u001b[0m\u001b[0;34m\"Validation dataset evaluation\"\u001b[0m\u001b[0;34m)\u001b[0m\u001b[0;34m\u001b[0m\u001b[0m\n",
      "\u001b[0;31mAttributeError\u001b[0m: 'list' object has no attribute 'evaluate'"
     ]
    }
   ],
   "source": [
    "print(\"Training dataset evaluation\")\n",
    "test_eval = model.evaluate(x_train, y_train_one_hot, verbose=1)\n",
    "print(test_eval)\n",
    "\n",
    "print(\"Validation dataset evaluation\")\n",
    "test_eval = model.evaluate(x_dev, y_dev_one_hot, verbose=1)\n",
    "print(test_eval)"
   ]
  },
  {
   "cell_type": "code",
   "execution_count": 14,
   "metadata": {},
   "outputs": [
    {
     "name": "stdout",
     "output_type": "stream",
     "text": [
      "        id  label\n",
      "0        0      3\n",
      "1        1      0\n",
      "2        2      2\n",
      "3        3      6\n",
      "4        4      7\n",
      "...    ...    ...\n",
      "4995  4995      1\n",
      "4996  4996      0\n",
      "4997  4997      1\n",
      "4998  4998      6\n",
      "4999  4999      3\n",
      "\n",
      "[5000 rows x 2 columns]\n"
     ]
    }
   ],
   "source": [
    "model = load_model(r\"Conv2D_trail3.h5py\")\n",
    "df_test = pd.read_csv(\"/kaggle/input/Kannada-MNIST/test.csv\")\n",
    "x_test = np.array(df_test.iloc[:,1:])\n",
    "x_test = np.reshape(x_test, (x_test.shape[0], 28, 28, 1))\n",
    "\n",
    "x_test = x_test.astype('float32')\n",
    "x_test = x_test / 255\n",
    "\n",
    "res = model.predict(x_test)\n",
    "res = pd.DataFrame(np.argmax(np.round(res), axis=1))\n",
    "res.columns = ['label']\n",
    "image_id = pd.DataFrame(np.arange(0, x_test.shape[0], dtype=int))\n",
    "image_id.columns = ['id']\n",
    "result = pd.concat([image_id, res], axis=1)\n",
    "\n",
    "result1=result.dropna()\n",
    "print(result1)\n",
    "result1.to_csv(r\"submission.csv\", index=False)"
   ]
  }
 ],
 "metadata": {
  "kernelspec": {
   "display_name": "Python 3",
   "language": "python",
   "name": "python3"
  },
  "language_info": {
   "codemirror_mode": {
    "name": "ipython",
    "version": 3
   },
   "file_extension": ".py",
   "mimetype": "text/x-python",
   "name": "python",
   "nbconvert_exporter": "python",
   "pygments_lexer": "ipython3",
   "version": "3.6.6"
  }
 },
 "nbformat": 4,
 "nbformat_minor": 1
}
